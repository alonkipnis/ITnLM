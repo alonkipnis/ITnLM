{
 "cells": [
  {
   "cell_type": "markdown",
   "id": "efbe256f",
   "metadata": {},
   "source": [
    "# N-gram Lanuage Models"
   ]
  },
  {
   "cell_type": "markdown",
   "id": "ebb90f20",
   "metadata": {},
   "source": [
    "Our goal is to build a machine that assigns probabilities to words or sequences of words. We call such machine *language model*. \n",
    "\n",
    "The probability model is over the set of all finite sequences over a given vocabulary (aka alphabet) $\\mathcal W$, which is countable. \n"
   ]
  },
  {
   "cell_type": "markdown",
   "id": "32f1011a",
   "metadata": {},
   "source": [
    "\n",
    "A simple class of language models are N-gram model, in which we make the assumption:\n",
    "$$\n",
    "\\Pr[w_1,w_2,w_3,\\ldots,w_n] = \\prod_{i=1}^n \\Pr[w_i | w_{i-N+1},\\ldots,w_{i-1}] = \\prod_{i=1}^n \\Pr[w_i | w^{i-1}_{i-N+1}] \n",
    "$$\n",
    "where:\n",
    "$$ \n",
    "w^{m+p}_{m} := \\begin{cases} (w_m,\\ldots,w_{m+p}) & m \\geq 1, \\\\\n",
    "\\emptyset & m=0,\n",
    "\\end{cases}\n",
    "$$\n",
    "for $m,p \\in \\mathbb N$. \n",
    "\n",
    "\n",
    "For example, with $N=2$ we have:\n",
    "$$\n",
    "\\Pr[w_1,w_2,w_3,\\ldots,w_n] =  \\Pr[w_1]\\prod_{i=2}^n \\Pr[w_i | w_{i-1}] \n",
    "$$\n"
   ]
  },
  {
   "cell_type": "code",
   "execution_count": 1,
   "id": "c923ea4f",
   "metadata": {},
   "outputs": [],
   "source": [
    "import pandas as pd\n",
    "import numpy as np\n",
    "from matplotlib import pyplot as plt\n",
    "from tqdm import tqdm"
   ]
  },
  {
   "cell_type": "markdown",
   "id": "11b68da2",
   "metadata": {},
   "source": [
    "## Building N-gram models"
   ]
  },
  {
   "cell_type": "markdown",
   "id": "ee1f8282",
   "metadata": {},
   "source": [
    "### Large Movie Review Dataset\n",
    "\n",
    "Link to download class version: https://cloud.cs.idc.ac.il/index.php/s/ScL9qfw3zTHy8x8\n",
    "\n",
    "Original dataset is from https://ai.stanford.edu/~amaas/data/sentiment/: This is a dataset for binary sentiment classification containing substantially more data than previous benchmark datasets. We provide a set of 25,000 highly polar movie reviews for training, and 25,000 for testing. There is additional unlabeled data for use as well. Raw text and already processed bag of words formats are provided. See the README file contained in the release for more details.\n",
    "\n",
    "(direct link https://ai.stanford.edu/~amaas/data/sentiment/aclImdb_v1.tar.gz)\n",
    "\n",
    "Here we use this dataset arranged in a .csv file as an be found at https://www.kaggle.com/datasets/lakshmi25npathi/imdb-dataset-of-50k-movie-reviews?resource=download\n"
   ]
  },
  {
   "cell_type": "markdown",
   "id": "bd362c20",
   "metadata": {},
   "source": [
    "Read dataset file. Each row is a review. "
   ]
  },
  {
   "cell_type": "code",
   "execution_count": 2,
   "id": "1a18abd9",
   "metadata": {},
   "outputs": [
    {
     "name": "stdout",
     "output_type": "stream",
     "text": [
      "                                                   review sentiment\n",
      "count                                               50000     50000\n",
      "unique                                              49582         2\n",
      "top     Loved today's show!!! It was a variety and not...  positive\n",
      "freq                                                    5     25000\n",
      "                                              review sentiment\n",
      "0  One of the other reviewers has mentioned that ...  positive\n",
      "1  A wonderful little production. <br /><br />The...  positive\n",
      "2  I thought this was a wonderful way to spend ti...  positive\n",
      "3  Basically there's a family where a little boy ...  negative\n",
      "4  Petter Mattei's \"Love in the Time of Money\" is...  positive\n"
     ]
    }
   ],
   "source": [
    "df = pd.read_csv(\"/Users/kipnisal/Data/IMDB reviews.csv\")\n",
    "print(df.describe())\n",
    "print(df.head())"
   ]
  },
  {
   "cell_type": "markdown",
   "id": "d6b1b381",
   "metadata": {},
   "source": [
    "####  Add sentence start and end symbols:"
   ]
  },
  {
   "cell_type": "code",
   "execution_count": 3,
   "id": "f4c11ceb",
   "metadata": {},
   "outputs": [],
   "source": [
    "import re\n",
    "\n",
    "SENT_START_TOKEN = '<s>'\n",
    "SENT_END_TOKEN = '</s>'\n",
    "\n",
    "def split_to_sentences(text: str, sep=r'\\.|\\n') -> str:\n",
    "    \"\"\"\n",
    "    Add SENT_START_TOKEN and SENT_END_TOKEN at the beginning and\n",
    "    ending of every sentence. \n",
    "    \n",
    "    Args:\n",
    "        :text: is a text input\n",
    "        :sep: explains how to identify sentnce ending (regular expression)\n",
    "    \"\"\"\n",
    "    return re.split(sep, text)\n",
    "\n",
    "def add_sentence_break_symbols(sentences: list) -> str:\n",
    "    sent_break = f' {SENT_END_TOKEN} {SENT_START_TOKEN} '\n",
    "    return SENT_START_TOKEN + ' ' + sent_break.join(sentences) + ' ' + SENT_END_TOKEN\n",
    "\n",
    "df['review_sb'] = df['review'].apply(split_to_sentences).apply(add_sentence_break_symbols)"
   ]
  },
  {
   "cell_type": "code",
   "execution_count": 4,
   "id": "ccfe9f46",
   "metadata": {},
   "outputs": [
    {
     "name": "stdout",
     "output_type": "stream",
     "text": [
      "                                              review sentiment  \\\n",
      "0  One of the other reviewers has mentioned that ...  positive   \n",
      "1  A wonderful little production. <br /><br />The...  positive   \n",
      "2  I thought this was a wonderful way to spend ti...  positive   \n",
      "3  Basically there's a family where a little boy ...  negative   \n",
      "4  Petter Mattei's \"Love in the Time of Money\" is...  positive   \n",
      "\n",
      "                                           review_sb  \n",
      "0  <s> One of the other reviewers has mentioned t...  \n",
      "1  <s> A wonderful little production </s> <s>  <b...  \n",
      "2  <s> I thought this was a wonderful way to spen...  \n",
      "3  <s> Basically there's a family where a little ...  \n",
      "4  <s> Petter Mattei's \"Love in the Time of Money...  \n"
     ]
    }
   ],
   "source": [
    "print(df.head())"
   ]
  },
  {
   "cell_type": "markdown",
   "id": "30579e88",
   "metadata": {},
   "source": [
    "### Unigram Model:\n",
    "$$\n",
    "\\Pr[w_1,w_2,w_3,\\ldots,w_n] = \\prod_{i=1}^n \\Pr[w_i] \n",
    "$$\n",
    "(assign probability to sentences based on frequency of occurances of words regardless of neighboring words or their location in the sentence).\n"
   ]
  },
  {
   "cell_type": "markdown",
   "id": "ea337855",
   "metadata": {},
   "source": [
    "We first list all words. We ignore capitalization, numbers, punctuations and white spaces. We use this 'cleaning' process for simplicity, but it is not always a good idea and we may not do the same for more sophisticated models."
   ]
  },
  {
   "cell_type": "code",
   "execution_count": 5,
   "id": "ef86218f",
   "metadata": {},
   "outputs": [
    {
     "name": "stderr",
     "output_type": "stream",
     "text": [
      "100%|██████████| 50000/50000 [00:02<00:00, 23366.22it/s]\n"
     ]
    }
   ],
   "source": [
    "TOKEN_PATTERN = r\"(?u)\\b[a-zA-Z]+\\b|\\</?s\\>\"\n",
    "\n",
    "tokens = []\n",
    "for sent in tqdm(df['review_sb']):\n",
    "    tokens += re.findall(TOKEN_PATTERN, sent.lower())"
   ]
  },
  {
   "cell_type": "markdown",
   "id": "7e3a45d5",
   "metadata": {},
   "source": [
    "(you can get yourself familiar with regular expressions at https://www.regular-expressions.info/)"
   ]
  },
  {
   "cell_type": "markdown",
   "id": "c17cfce8",
   "metadata": {},
   "source": [
    "The next line actualy does the counting; it uses ``value_counts`` method of ``pandas``"
   ]
  },
  {
   "cell_type": "code",
   "execution_count": 17,
   "id": "ea1b0102",
   "metadata": {},
   "outputs": [],
   "source": [
    "df_counts = pd.DataFrame(pd.DataFrame(tokens).value_counts())\\\n",
    "                .rename(columns = {0 : 'count'})\n",
    "\n",
    "df_counts.loc[:, 'freq'] = df_counts['count'] / df_counts['count'].sum()\n",
    "model_1gram = df_counts"
   ]
  },
  {
   "cell_type": "code",
   "execution_count": 14,
   "id": "110bb785",
   "metadata": {},
   "outputs": [
    {
     "data": {
      "text/html": [
       "<div>\n",
       "<style scoped>\n",
       "    .dataframe tbody tr th:only-of-type {\n",
       "        vertical-align: middle;\n",
       "    }\n",
       "\n",
       "    .dataframe tbody tr th {\n",
       "        vertical-align: top;\n",
       "    }\n",
       "\n",
       "    .dataframe thead th {\n",
       "        text-align: right;\n",
       "    }\n",
       "</style>\n",
       "<table border=\"1\" class=\"dataframe\">\n",
       "  <thead>\n",
       "    <tr style=\"text-align: right;\">\n",
       "      <th></th>\n",
       "      <th>count</th>\n",
       "      <th>freq</th>\n",
       "    </tr>\n",
       "    <tr>\n",
       "      <th>0</th>\n",
       "      <th></th>\n",
       "      <th></th>\n",
       "    </tr>\n",
       "  </thead>\n",
       "  <tbody>\n",
       "    <tr>\n",
       "      <th>&lt;/s&gt;</th>\n",
       "      <td>700520</td>\n",
       "      <td>0.052692</td>\n",
       "    </tr>\n",
       "    <tr>\n",
       "      <th>&lt;s&gt;</th>\n",
       "      <td>700520</td>\n",
       "      <td>0.052692</td>\n",
       "    </tr>\n",
       "    <tr>\n",
       "      <th>the</th>\n",
       "      <td>667993</td>\n",
       "      <td>0.050246</td>\n",
       "    </tr>\n",
       "    <tr>\n",
       "      <th>and</th>\n",
       "      <td>324441</td>\n",
       "      <td>0.024404</td>\n",
       "    </tr>\n",
       "    <tr>\n",
       "      <th>a</th>\n",
       "      <td>322970</td>\n",
       "      <td>0.024294</td>\n",
       "    </tr>\n",
       "    <tr>\n",
       "      <th>of</th>\n",
       "      <td>289410</td>\n",
       "      <td>0.021769</td>\n",
       "    </tr>\n",
       "    <tr>\n",
       "      <th>to</th>\n",
       "      <td>268124</td>\n",
       "      <td>0.020168</td>\n",
       "    </tr>\n",
       "    <tr>\n",
       "      <th>is</th>\n",
       "      <td>211082</td>\n",
       "      <td>0.015877</td>\n",
       "    </tr>\n",
       "    <tr>\n",
       "      <th>br</th>\n",
       "      <td>201951</td>\n",
       "      <td>0.015191</td>\n",
       "    </tr>\n",
       "    <tr>\n",
       "      <th>it</th>\n",
       "      <td>190857</td>\n",
       "      <td>0.014356</td>\n",
       "    </tr>\n",
       "  </tbody>\n",
       "</table>\n",
       "</div>"
      ],
      "text/plain": [
       "       count      freq\n",
       "0                     \n",
       "</s>  700520  0.052692\n",
       "<s>   700520  0.052692\n",
       "the   667993  0.050246\n",
       "and   324441  0.024404\n",
       "a     322970  0.024294\n",
       "of    289410  0.021769\n",
       "to    268124  0.020168\n",
       "is    211082  0.015877\n",
       "br    201951  0.015191\n",
       "it    190857  0.014356"
      ]
     },
     "execution_count": 14,
     "metadata": {},
     "output_type": "execute_result"
    }
   ],
   "source": [
    "model_1gram.head(10)"
   ]
  },
  {
   "cell_type": "markdown",
   "id": "be01cfd9",
   "metadata": {},
   "source": [
    "We see that the two special symbols are also most frequent. These symbols are not informative in a unigram model hence we remove them:"
   ]
  },
  {
   "cell_type": "code",
   "execution_count": 18,
   "id": "28db5f71",
   "metadata": {},
   "outputs": [
    {
     "name": "stderr",
     "output_type": "stream",
     "text": [
      "/var/folders/3n/c1thdb3136qc3c_4t5br9r6c0000gq/T/ipykernel_65861/1433239876.py:1: PerformanceWarning: dropping on a non-lexsorted multi-index without a level parameter may impact performance.\n",
      "  model_1gram = model_1gram.drop(['</s>', '<s>'])   # remove symbols\n"
     ]
    }
   ],
   "source": [
    "model_1gram = model_1gram.drop(['</s>', '<s>'])   # remove symbols\n",
    "model_1gram['freq'] = model_1gram['count'] / model_1gram['count'].sum()  # re-calculate frequencies"
   ]
  },
  {
   "cell_type": "code",
   "execution_count": 19,
   "id": "c5293872",
   "metadata": {},
   "outputs": [
    {
     "data": {
      "text/html": [
       "<div>\n",
       "<style scoped>\n",
       "    .dataframe tbody tr th:only-of-type {\n",
       "        vertical-align: middle;\n",
       "    }\n",
       "\n",
       "    .dataframe tbody tr th {\n",
       "        vertical-align: top;\n",
       "    }\n",
       "\n",
       "    .dataframe thead th {\n",
       "        text-align: right;\n",
       "    }\n",
       "</style>\n",
       "<table border=\"1\" class=\"dataframe\">\n",
       "  <thead>\n",
       "    <tr style=\"text-align: right;\">\n",
       "      <th></th>\n",
       "      <th>count</th>\n",
       "      <th>freq</th>\n",
       "    </tr>\n",
       "    <tr>\n",
       "      <th>0</th>\n",
       "      <th></th>\n",
       "      <th></th>\n",
       "    </tr>\n",
       "  </thead>\n",
       "  <tbody>\n",
       "    <tr>\n",
       "      <th>the</th>\n",
       "      <td>667993</td>\n",
       "      <td>0.056165</td>\n",
       "    </tr>\n",
       "    <tr>\n",
       "      <th>and</th>\n",
       "      <td>324441</td>\n",
       "      <td>0.027279</td>\n",
       "    </tr>\n",
       "    <tr>\n",
       "      <th>a</th>\n",
       "      <td>322970</td>\n",
       "      <td>0.027155</td>\n",
       "    </tr>\n",
       "    <tr>\n",
       "      <th>of</th>\n",
       "      <td>289410</td>\n",
       "      <td>0.024334</td>\n",
       "    </tr>\n",
       "    <tr>\n",
       "      <th>to</th>\n",
       "      <td>268124</td>\n",
       "      <td>0.022544</td>\n",
       "    </tr>\n",
       "    <tr>\n",
       "      <th>is</th>\n",
       "      <td>211082</td>\n",
       "      <td>0.017748</td>\n",
       "    </tr>\n",
       "    <tr>\n",
       "      <th>br</th>\n",
       "      <td>201951</td>\n",
       "      <td>0.016980</td>\n",
       "    </tr>\n",
       "    <tr>\n",
       "      <th>it</th>\n",
       "      <td>190857</td>\n",
       "      <td>0.016047</td>\n",
       "    </tr>\n",
       "    <tr>\n",
       "      <th>in</th>\n",
       "      <td>186781</td>\n",
       "      <td>0.015705</td>\n",
       "    </tr>\n",
       "    <tr>\n",
       "      <th>i</th>\n",
       "      <td>175633</td>\n",
       "      <td>0.014767</td>\n",
       "    </tr>\n",
       "    <tr>\n",
       "      <th>this</th>\n",
       "      <td>151002</td>\n",
       "      <td>0.012696</td>\n",
       "    </tr>\n",
       "    <tr>\n",
       "      <th>that</th>\n",
       "      <td>143879</td>\n",
       "      <td>0.012097</td>\n",
       "    </tr>\n",
       "    <tr>\n",
       "      <th>s</th>\n",
       "      <td>125008</td>\n",
       "      <td>0.010511</td>\n",
       "    </tr>\n",
       "    <tr>\n",
       "      <th>was</th>\n",
       "      <td>95608</td>\n",
       "      <td>0.008039</td>\n",
       "    </tr>\n",
       "    <tr>\n",
       "      <th>as</th>\n",
       "      <td>91750</td>\n",
       "      <td>0.007714</td>\n",
       "    </tr>\n",
       "  </tbody>\n",
       "</table>\n",
       "</div>"
      ],
      "text/plain": [
       "       count      freq\n",
       "0                     \n",
       "the   667993  0.056165\n",
       "and   324441  0.027279\n",
       "a     322970  0.027155\n",
       "of    289410  0.024334\n",
       "to    268124  0.022544\n",
       "is    211082  0.017748\n",
       "br    201951  0.016980\n",
       "it    190857  0.016047\n",
       "in    186781  0.015705\n",
       "i     175633  0.014767\n",
       "this  151002  0.012696\n",
       "that  143879  0.012097\n",
       "s     125008  0.010511\n",
       "was    95608  0.008039\n",
       "as     91750  0.007714"
      ]
     },
     "execution_count": 19,
     "metadata": {},
     "output_type": "execute_result"
    }
   ],
   "source": [
    "model_1gram.head(15)"
   ]
  },
  {
   "cell_type": "markdown",
   "id": "415c6c3c",
   "metadata": {},
   "source": [
    "Illustrating \"Zipf law\" $f_i \\propto 1/i$ for uniframs. Zipf \"law\" is a phenomena discovered by American linguist George Kingsley Zipf\n",
    "https://en.wikipedia.org/wiki/George_Kingsley_Zipf\n",
    "\n",
    "The Zipf phenomena only occurs in the most frequent words, after which the tail become thiner than $1/i$ (converges to zero faster) "
   ]
  },
  {
   "cell_type": "code",
   "execution_count": 31,
   "id": "72f534c5",
   "metadata": {},
   "outputs": [
    {
     "data": {
      "image/png": "[encoded data removed]",
      "text/plain": [
       "<Figure size 640x480 with 1 Axes>"
      ]
     },
     "metadata": {},
     "output_type": "display_data"
    },
    {
     "data": {
      "image/png": "[encoded data removed]",
      "text/plain": [
       "<Figure size 640x480 with 1 Axes>"
      ]
     },
     "metadata": {},
     "output_type": "display_data"
    },
    {
     "data": {
      "image/png": "[encoded data removed]",
      "text/plain": [
       "<Figure size 640x480 with 1 Axes>"
      ]
     },
     "metadata": {},
     "output_type": "display_data"
    }
   ],
   "source": [
    "n = 3000\n",
    "plt.title(f\"Frequencies of first {n} words\")\n",
    "plt.plot(model_1gram.freq.values[:n])\n",
    "plt.show()\n",
    "\n",
    "plt.title(\"inverse\")\n",
    "plt.plot(1 / model_1gram.freq.values[:n])\n",
    "plt.show()\n",
    "\n",
    "plt.title(\"log-log\")\n",
    "plt.loglog(model_1gram.freq.values[:n])\n",
    "plt.show()"
   ]
  },
  {
   "cell_type": "markdown",
   "id": "ce691e08",
   "metadata": {},
   "source": [
    "The entire procedure is summarized as follows"
   ]
  },
  {
   "cell_type": "code",
   "execution_count": 21,
   "id": "38eb418f",
   "metadata": {},
   "outputs": [],
   "source": [
    "from nltk import ngrams\n",
    "TOKEN_PATTERN = r\"(?u)\\b[a-zA-Z]+\\b|\\</?s\\>\"\n",
    "SENT_START_TOKEN = '<s>'\n",
    "SENT_END_TOKEN = '</s>'\n",
    "\n",
    "\n",
    "def is_sublist(list_a: list, list_b: list)-> bool:\n",
    "    \"\"\"\n",
    "    Is list_a a sublist of list_b?\n",
    "    \"\"\"\n",
    "    return str(list_a).strip('[').strip(']') in str(list_b)\n",
    "\n",
    "\n",
    "def ng_tokenize(text: str, ng: int) -> list:\n",
    "    \"\"\"\n",
    "    extract ngram and add sepcial symbols\n",
    "    \n",
    "    Args:\n",
    "      :text:  text\n",
    "      :ng:    ngram level\n",
    "      \n",
    "    Returns:\n",
    "      list of ngrams \n",
    "    \"\"\"\n",
    "    tokens = re.findall(TOKEN_PATTERN, text.lower())\n",
    "    ngz = ngrams(tokens, ng,\n",
    "                 pad_left=True, pad_right=True,\n",
    "                 left_pad_symbol=SENT_START_TOKEN,\n",
    "                 right_pad_symbol=SENT_END_TOKEN)\n",
    "    return list(ngz)\n",
    "\n",
    "\n",
    "def clean_text(text: str) -> str:\n",
    "    \"\"\"\n",
    "    clean text \n",
    "    \"\"\"    \n",
    "    text = text.lower()\n",
    "    text = re.sub(r\"<br ?/>\", \" \", text)  # replace '<br />' with ' '\n",
    "    text = re.sub(r\"\\.\\.+\", \" \", text)  # replace '..' or a longer sequence with ' '\n",
    "    \n",
    "    return text\n",
    "\n",
    "\n",
    "def build_ngram_model(text: str, ng: int) -> pd.DataFrame:\n",
    "    \"\"\"\n",
    "    1. Clean text\n",
    "    2. Add sentence begin and end symbols\n",
    "    3. Extract ngrams\n",
    "    4. Remove unwanted tokens\n",
    "    5. Compute frequency of every token\n",
    "    \n",
    "    Returns:\n",
    "      dataframe. Indexes are ngrams. Columns indiacte number of occurances \n",
    "      and frequency of occurance\n",
    "    \"\"\"\n",
    "    print(\"Cleaning text...\")\n",
    "    text = clean_text(text)\n",
    "    print(\"Breaking to sentences\")\n",
    "    sentences = split_to_sentences(text)\n",
    "    print(\"Extracting tokens...\")\n",
    "    tokens = []\n",
    "    for sent in tqdm(sentences):\n",
    "        tokens += ng_tokenize(sent, ng)\n",
    "    print(\"Removing unacceptable tokens...\")\n",
    "    tokens = [t for t in tokens if not \n",
    "              (('<s>' in t[1:]) or ('</s>' in t[:-1]) or (is_sublist([\"<s>\", \"</s>\"], t)))]\n",
    "    print(\"Counting tokens...\")\n",
    "    df_ng = pd.DataFrame(pd.DataFrame(tokens).value_counts()).rename(columns = {0 : 'count'})\n",
    "    print(\"Computing frequencies...\")\n",
    "    df_ng.loc[:, 'freq'] = df_ng['count'] / df_ng['count'].sum()  # compute frequencies\n",
    "    return df_ng"
   ]
  },
  {
   "cell_type": "markdown",
   "id": "dc63421f",
   "metadata": {},
   "source": [
    "### Bigram Model:\n",
    "$$\n",
    "\\Pr[w_1,w_2,w_3,\\ldots,w_n] = \\prod_{i=1}^n \\Pr[w_i|w_{i-1}] \n",
    "$$\n",
    "(assign probability to sentences based on frequency of occurances of a word given the previous word in the sentence).\n"
   ]
  },
  {
   "cell_type": "code",
   "execution_count": 22,
   "id": "0a1c1882",
   "metadata": {},
   "outputs": [
    {
     "name": "stdout",
     "output_type": "stream",
     "text": [
      "Cleaning text...\n",
      "Breaking to sentences\n",
      "Extracting tokens...\n"
     ]
    },
    {
     "name": "stderr",
     "output_type": "stream",
     "text": [
      "100%|██████████| 564901/564901 [00:03<00:00, 163767.47it/s]\n"
     ]
    },
    {
     "name": "stdout",
     "output_type": "stream",
     "text": [
      "Removing unacceptible tokens...\n",
      "Counting tokens...\n",
      "Computing frequencies...\n"
     ]
    }
   ],
   "source": [
    "model_2gram = build_ngram_model(\" \".join(df.review), 2)"
   ]
  },
  {
   "cell_type": "code",
   "execution_count": 24,
   "id": "6eb3e102",
   "metadata": {},
   "outputs": [
    {
     "name": "stdout",
     "output_type": "stream",
     "text": [
      " 15 most frequenct bigrams:\n"
     ]
    },
    {
     "data": {
      "text/html": [
       "<div>\n",
       "<style scoped>\n",
       "    .dataframe tbody tr th:only-of-type {\n",
       "        vertical-align: middle;\n",
       "    }\n",
       "\n",
       "    .dataframe tbody tr th {\n",
       "        vertical-align: top;\n",
       "    }\n",
       "\n",
       "    .dataframe thead th {\n",
       "        text-align: right;\n",
       "    }\n",
       "</style>\n",
       "<table border=\"1\" class=\"dataframe\">\n",
       "  <thead>\n",
       "    <tr style=\"text-align: right;\">\n",
       "      <th></th>\n",
       "      <th></th>\n",
       "      <th>count</th>\n",
       "      <th>freq</th>\n",
       "    </tr>\n",
       "    <tr>\n",
       "      <th>0</th>\n",
       "      <th>1</th>\n",
       "      <th></th>\n",
       "      <th></th>\n",
       "    </tr>\n",
       "  </thead>\n",
       "  <tbody>\n",
       "    <tr>\n",
       "      <th>of</th>\n",
       "      <th>the</th>\n",
       "      <td>77275</td>\n",
       "      <td>6.306123e-03</td>\n",
       "    </tr>\n",
       "    <tr>\n",
       "      <th rowspan=\"2\" valign=\"top\">&lt;s&gt;</th>\n",
       "      <th>the</th>\n",
       "      <td>70588</td>\n",
       "      <td>5.760422e-03</td>\n",
       "    </tr>\n",
       "    <tr>\n",
       "      <th>i</th>\n",
       "      <td>55533</td>\n",
       "      <td>4.531840e-03</td>\n",
       "    </tr>\n",
       "    <tr>\n",
       "      <th>in</th>\n",
       "      <th>the</th>\n",
       "      <td>50275</td>\n",
       "      <td>4.102754e-03</td>\n",
       "    </tr>\n",
       "    <tr>\n",
       "      <th>it</th>\n",
       "      <th>s</th>\n",
       "      <td>33762</td>\n",
       "      <td>2.755190e-03</td>\n",
       "    </tr>\n",
       "    <tr>\n",
       "      <th>...</th>\n",
       "      <th>...</th>\n",
       "      <td>...</td>\n",
       "      <td>...</td>\n",
       "    </tr>\n",
       "    <tr>\n",
       "      <th rowspan=\"4\" valign=\"top\">help</th>\n",
       "      <th>kill</th>\n",
       "      <td>1</td>\n",
       "      <td>8.160625e-08</td>\n",
       "    </tr>\n",
       "    <tr>\n",
       "      <th>kidman</th>\n",
       "      <td>1</td>\n",
       "      <td>8.160625e-08</td>\n",
       "    </tr>\n",
       "    <tr>\n",
       "      <th>kidd</th>\n",
       "      <td>1</td>\n",
       "      <td>8.160625e-08</td>\n",
       "    </tr>\n",
       "    <tr>\n",
       "      <th>keitaro</th>\n",
       "      <td>1</td>\n",
       "      <td>8.160625e-08</td>\n",
       "    </tr>\n",
       "    <tr>\n",
       "      <th>zzzzzzzzzzzzzzzzzzzzzzzzzzzzzzzzzzzzzzzzzzzz</th>\n",
       "      <th>&lt;/s&gt;</th>\n",
       "      <td>1</td>\n",
       "      <td>8.160625e-08</td>\n",
       "    </tr>\n",
       "  </tbody>\n",
       "</table>\n",
       "<p>2117313 rows × 2 columns</p>\n",
       "</div>"
      ],
      "text/plain": [
       "                                                      count          freq\n",
       "0                                            1                           \n",
       "of                                           the      77275  6.306123e-03\n",
       "<s>                                          the      70588  5.760422e-03\n",
       "                                             i        55533  4.531840e-03\n",
       "in                                           the      50275  4.102754e-03\n",
       "it                                           s        33762  2.755190e-03\n",
       "...                                                     ...           ...\n",
       "help                                         kill         1  8.160625e-08\n",
       "                                             kidman       1  8.160625e-08\n",
       "                                             kidd         1  8.160625e-08\n",
       "                                             keitaro      1  8.160625e-08\n",
       "zzzzzzzzzzzzzzzzzzzzzzzzzzzzzzzzzzzzzzzzzzzz </s>         1  8.160625e-08\n",
       "\n",
       "[2117313 rows x 2 columns]"
      ]
     },
     "execution_count": 24,
     "metadata": {},
     "output_type": "execute_result"
    }
   ],
   "source": [
    "k = 15\n",
    "print(f\" {k} most frequenct bigrams:\")\n",
    "model_2gram"
   ]
  },
  {
   "cell_type": "markdown",
   "id": "1dbda475",
   "metadata": {},
   "source": [
    "Bigrams also obey the Zipf law:"
   ]
  },
  {
   "cell_type": "code",
   "execution_count": 30,
   "id": "076bd5d7",
   "metadata": {},
   "outputs": [
    {
     "data": {
      "image/png": "[encoded data removed]",
      "text/plain": [
       "<Figure size 640x480 with 1 Axes>"
      ]
     },
     "metadata": {},
     "output_type": "display_data"
    },
    {
     "data": {
      "image/png": "[encoded data removed]",
      "text/plain": [
       "<Figure size 640x480 with 1 Axes>"
      ]
     },
     "metadata": {},
     "output_type": "display_data"
    },
    {
     "data": {
      "image/png": "[encoded data removed]",
      "text/plain": [
       "<Figure size 640x480 with 1 Axes>"
      ]
     },
     "metadata": {},
     "output_type": "display_data"
    }
   ],
   "source": [
    "n = 3000\n",
    "\n",
    "plt.title(f\"Frequencies of first {n} words\")\n",
    "plt.plot(model_2gram.freq.values[:n])\n",
    "plt.show()\n",
    "\n",
    "plt.title(\"inverse\")\n",
    "plt.plot(1 / model_2gram.freq.values[:n])\n",
    "plt.show()\n",
    "\n",
    "plt.title(\"log-log\")\n",
    "plt.loglog(model_2gram.freq.values[:n])\n",
    "plt.show()"
   ]
  },
  {
   "cell_type": "markdown",
   "id": "c4854cd5",
   "metadata": {},
   "source": [
    "### Trigram Model\n",
    "\n",
    "$$\n",
    "\\Pr[w_1,w_2,w_3,\\ldots,w_n] = \\prod_{i=1}^n \\Pr[w_i|w_{i-1},w_{i-2}] \n",
    "$$\n"
   ]
  },
  {
   "cell_type": "code",
   "execution_count": 32,
   "id": "8ed9637a",
   "metadata": {},
   "outputs": [
    {
     "name": "stdout",
     "output_type": "stream",
     "text": [
      "Cleaning text...\n",
      "Breaking to sentences\n",
      "Extracting tokens...\n"
     ]
    },
    {
     "name": "stderr",
     "output_type": "stream",
     "text": [
      "100%|██████████| 564901/564901 [00:03<00:00, 144163.41it/s]\n"
     ]
    },
    {
     "name": "stdout",
     "output_type": "stream",
     "text": [
      "Removing unacceptible tokens...\n",
      "Counting tokens...\n",
      "Computing frequencies...\n"
     ]
    }
   ],
   "source": [
    "model_3gram = build_ngram_model(\" \".join(df.review), ng=3)"
   ]
  },
  {
   "cell_type": "code",
   "execution_count": 33,
   "id": "9ea4ca5d",
   "metadata": {},
   "outputs": [
    {
     "name": "stdout",
     "output_type": "stream",
     "text": [
      "15 most frequent 3grams:\n",
      "                  count      freq\n",
      "0    1     2                     \n",
      "<s>  it    s      10596  0.000906\n",
      "one  of    the     9824  0.000840\n",
      "<s>  this  is      7837  0.000670\n",
      "     it    is      5728  0.000490\n",
      "     if    you     5523  0.000472\n",
      "i    don   t       5421  0.000464\n",
      "this movie is      5277  0.000451\n",
      "of   the   film    5173  0.000442\n",
      "<s>  this  movie   5120  0.000438\n",
      "this is    a       4817  0.000412\n",
      "it   s     a       4703  0.000402\n",
      "a    lot   of      4694  0.000401\n",
      "of   the   movie   4330  0.000370\n",
      "<s>  the   film    4227  0.000362\n",
      "this movie </s>    4114  0.000352\n"
     ]
    }
   ],
   "source": [
    "k = 15\n",
    "print(f\"{k} most frequent 3grams:\")\n",
    "print(model_3gram.head(k))"
   ]
  },
  {
   "cell_type": "markdown",
   "id": "3796950e",
   "metadata": {},
   "source": [
    "# Sentence probability\n"
   ]
  },
  {
   "cell_type": "code",
   "execution_count": 34,
   "id": "4d1f6ff0",
   "metadata": {},
   "outputs": [],
   "source": [
    "class State(object):\n",
    "    \"\"\"\n",
    "    class to manage sequential state progression\n",
    "    \n",
    "    Args:\n",
    "        past, present, future are lists\n",
    "        \n",
    "    Methods:\n",
    "        State::step   update one step in time, so that the present \n",
    "        is appended to the past and the present gets the next value from the future\n",
    "    \"\"\"\n",
    "    def __init__(self, past: list, present: list, future: list):\n",
    "        self.past = past\n",
    "        self.present = present\n",
    "        self.future = future\n",
    "        \n",
    "    def step(self):\n",
    "        self.past += self.present\n",
    "        if len(self.future) > 0:\n",
    "            self.present = [self.future.pop(0)]\n",
    "        else:\n",
    "            self.present = []\n",
    "            self.future = []\n",
    "            \n",
    "    def print_state(self):\n",
    "        print(\"past:\", self.past)\n",
    "        print(\"present:\", self.present)\n",
    "        print(\"future:\", self.future)\n"
   ]
  },
  {
   "cell_type": "code",
   "execution_count": 36,
   "id": "8dfe25d3",
   "metadata": {},
   "outputs": [],
   "source": [
    "\n",
    "def token_probability(token : str, model: pd.DataFrame) -> float:\n",
    "    \"\"\"\n",
    "    probability of a token under the model\n",
    "    \n",
    "    Notes: \n",
    "    1. Returns the marginal probability if the token is smaller than the size of the model\n",
    "    2. Returns 1 if token == \"\" or token == [].\n",
    "    \"\"\"\n",
    "    \n",
    "    \n",
    "    if len(token) == 0:  \n",
    "        return 1     # we agree that an empty token has probability 1\n",
    "    token_idx = tuple(token)\n",
    "    \n",
    "    if token_idx in model.index:\n",
    "        return model.loc[token_idx].freq.sum()  # the sum is to allow marginalization if\n",
    "                                                # the token is smaller than an n-gram\n",
    "    # else:\n",
    "    print(f\"Unrecognized Token '{token}'\")\n",
    "    raise ValueError                \n",
    "    \n",
    "\n",
    "def conditional_probability(token_a: list, token_b: list, model: pd.DataFrame, verbose=False) -> float:\n",
    "    \"\"\"\n",
    "    Probability of token_a given token_b under the model\n",
    "    (token can contain multiple words depending on the model definition)\n",
    "    \"\"\"\n",
    "    \n",
    "    pr_b = token_probability(token_b, model)\n",
    "    pr_ab = token_probability(token_b + token_a, model)\n",
    "    return pr_ab / pr_b\n",
    "    \n",
    "    \n",
    "def sentence_probability(sent: str, model: pd.DataFrame,\n",
    "                         verbose=False, backoff=False) -> float:\n",
    "    \"\"\"\n",
    "    Probability of a sentence under an n-gram languge model\n",
    "    \n",
    "    Args:\n",
    "        :sent:    the sentence \n",
    "        :model:   the model\n",
    "        :verbose: flag whther to print computing process\n",
    "        :bakcoff: try backing off to handle unknown ngrams\n",
    "        \n",
    "    Returns:\n",
    "       probability\n",
    "    \"\"\"\n",
    "    \n",
    "    ng = len(model.index[0])  # identify model order\n",
    "\n",
    "    sent_atoms = sent.split()  \n",
    "    first_token = sent_atoms[:1] \n",
    "\n",
    "    word_stream = State(past=[], present=first_token, future=sent_atoms[1:])\n",
    "\n",
    "    # update state\n",
    "    logprob = 0\n",
    "    while len(word_stream.present) > 0:\n",
    "        if backoff:\n",
    "            pr_token = conditional_probability_backoff(word_stream.present,\n",
    "                                                       word_stream.past[-ng+1:],\n",
    "                                                       model, verbose=verbose)\n",
    "        else:\n",
    "            pr_token = conditional_probability(word_stream.present, word_stream.past[-ng+1:],\n",
    "                                               model)\n",
    "        logprob += np.log(pr_token)\n",
    "        if verbose:\n",
    "            word_stream.print_state()\n",
    "            print(f\"P(present|past) = {pr_token}\")\n",
    "            print(\"------------------------------------\")\n",
    "        word_stream.step()\n",
    "\n",
    "    return np.exp(logprob)\n",
    "\n",
    "\n",
    "def conditional_probability_backoff(token_a:str, token_b:str, model: pd.DataFrame, verbose=False) -> float:\n",
    "    \"\"\"\n",
    "    same as `conditional_probability`, but backs off if n-gram token_a + token_b \n",
    "    is not recognized by the model. \n",
    "    \n",
    "     \"\"\"\n",
    "    \n",
    "    joint_token_idx = tuple(token_b + token_a)\n",
    "        \n",
    "    if (joint_token_idx not in model.index) and (token_b != []):\n",
    "        if verbose:\n",
    "            print(f\"Token_a = {token_a}, Backing-off from {token_b} to {token_b[1:]}...\")\n",
    "        \n",
    "        return conditional_probability_backoff(token_a, token_b[1:], model)\n",
    "    \n",
    "    return conditional_probability(token_a, token_b, model)\n",
    "   \n",
    "    \n"
   ]
  },
  {
   "cell_type": "markdown",
   "id": "2e201e4c",
   "metadata": {},
   "source": [
    "Make sure that conditional probability behaves as expected:"
   ]
  },
  {
   "cell_type": "code",
   "execution_count": 46,
   "id": "a9c0bab9",
   "metadata": {},
   "outputs": [],
   "source": [
    "import warnings\n",
    "\n",
    "warnings.filterwarnings(\"ignore\", category=pd.errors.PerformanceWarning)\n",
    "\n",
    "test_tokens = ['<s>', 'on', 'of', 'there', 'movie']\n",
    "for t in test_tokens:\n",
    "    assert conditional_probability([t],[], model_2gram) == token_probability([t], model_2gram)"
   ]
  },
  {
   "cell_type": "markdown",
   "id": "7e32ee9d",
   "metadata": {},
   "source": [
    "### Probability of a bigram:"
   ]
  },
  {
   "cell_type": "code",
   "execution_count": 54,
   "id": "2e78bfb3",
   "metadata": {},
   "outputs": [
    {
     "name": "stdout",
     "output_type": "stream",
     "text": [
      "0.303154674178684\n",
      "\n",
      "0.0013261014966259083\n",
      "9.250029841397449e-05\n",
      "5.506997483406865e-07\n",
      "7.894934102783051e-06\n"
     ]
    }
   ],
   "source": [
    "print(conditional_probability(['of'], ['one'], model_2gram)) #* token_probability('one', model_2gram))\n",
    "print()\n",
    "print(sentence_probability(\"one of\", model_2gram))\n",
    "print(sentence_probability(\"<s> one of\", model_2gram))\n",
    "print(sentence_probability(\"<s> one of </s>\", model_2gram))\n",
    "print(sentence_probability(\"one of </s>\", model_2gram))"
   ]
  },
  {
   "cell_type": "code",
   "execution_count": 64,
   "id": "556b9820",
   "metadata": {},
   "outputs": [
    {
     "name": "stdout",
     "output_type": "stream",
     "text": [
      "2.4698388307038047e-05\n",
      "2.6029711940326926e-07\n",
      "4.643740236737678e-09\n"
     ]
    }
   ],
   "source": [
    "print(sentence_probability(\"<s> one of the\", model_2gram))\n",
    "print(sentence_probability(\"<s> one of the best\", model_2gram))\n",
    "print(sentence_probability(\"<s> one of the best performance\", model_2gram))"
   ]
  },
  {
   "cell_type": "markdown",
   "id": "beef3dfe",
   "metadata": {},
   "source": [
    "Discuss the differences"
   ]
  },
  {
   "cell_type": "markdown",
   "id": "4c7f9d33",
   "metadata": {},
   "source": [
    "#### Probability of a longer sentence:"
   ]
  },
  {
   "cell_type": "markdown",
   "id": "52a49ad6",
   "metadata": {},
   "source": [
    "##### Bigram model:\n",
    "As opposed to what was said in class, the probability calculation below of the first two token is correct. The part that is incorrect or meaningless is the printout: P(present|past) in the first token. Indeed, one can verify that as follows:"
   ]
  },
  {
   "cell_type": "code",
   "execution_count": 67,
   "id": "0588a0c7",
   "metadata": {},
   "outputs": [
    {
     "name": "stdout",
     "output_type": "stream",
     "text": [
      "past: []\n",
      "present: ['<s>']\n",
      "future: ['one', 'of']\n",
      "P(present|past) = 0.04590016748865917\n",
      "------------------------------------\n",
      "past: ['<s>']\n",
      "present: ['one']\n",
      "future: ['of']\n",
      "P(present|past) = 0.006647595646971604\n",
      "------------------------------------\n",
      "past: ['<s>', 'one']\n",
      "present: ['of']\n",
      "future: []\n",
      "P(present|past) = 0.303154674178684\n",
      "------------------------------------\n",
      "9.250029841397449e-05\n"
     ]
    }
   ],
   "source": [
    "print(sentence_probability(\"<s> one of\", model_2gram, verbose=True))"
   ]
  },
  {
   "cell_type": "code",
   "execution_count": 70,
   "id": "b95cf016",
   "metadata": {},
   "outputs": [
    {
     "name": "stdout",
     "output_type": "stream",
     "text": [
      "<s> one  0.0003051257535928782\n",
      "one of   0.0013261014966259083\n"
     ]
    }
   ],
   "source": [
    "print(\"<s> one \", token_probability([\"<s>\", \"one\"], model_2gram))\n",
    "print(\"one of  \", token_probability([\"one\", \"of\"], model_2gram))"
   ]
  },
  {
   "cell_type": "code",
   "execution_count": 74,
   "id": "c577f49b",
   "metadata": {},
   "outputs": [
    {
     "name": "stdout",
     "output_type": "stream",
     "text": [
      "past: []\n",
      "present: ['<s>']\n",
      "future: ['no', 'one', 'expects', 'the', 'star', 'trek', 'movies', 'to', 'be', 'high', 'art', '</s>']\n",
      "P(present|past) = 0.04590016748865917\n",
      "------------------------------------\n",
      "past: ['<s>']\n",
      "present: ['no']\n",
      "future: ['one', 'expects', 'the', 'star', 'trek', 'movies', 'to', 'be', 'high', 'art', '</s>']\n",
      "P(present|past) = 0.0040554067051998465\n",
      "------------------------------------\n",
      "past: ['<s>', 'no']\n",
      "present: ['one']\n",
      "future: ['expects', 'the', 'star', 'trek', 'movies', 'to', 'be', 'high', 'art', '</s>']\n",
      "P(present|past) = 0.07081290526648742\n",
      "------------------------------------\n",
      "past: ['<s>', 'no', 'one']\n",
      "present: ['expects']\n",
      "future: ['the', 'star', 'trek', 'movies', 'to', 'be', 'high', 'art', '</s>']\n",
      "P(present|past) = 0.000596981512228793\n",
      "------------------------------------\n",
      "past: ['<s>', 'no', 'one', 'expects']\n",
      "present: ['the']\n",
      "future: ['star', 'trek', 'movies', 'to', 'be', 'high', 'art', '</s>']\n",
      "P(present|past) = 0.14843749999999997\n",
      "------------------------------------\n",
      "past: ['<s>', 'no', 'one', 'expects', 'the']\n",
      "present: ['star']\n",
      "future: ['trek', 'movies', 'to', 'be', 'high', 'art', '</s>']\n",
      "P(present|past) = 0.0006976121007256064\n",
      "------------------------------------\n",
      "past: ['<s>', 'no', 'one', 'expects', 'the', 'star']\n",
      "present: ['trek']\n",
      "future: ['movies', 'to', 'be', 'high', 'art', '</s>']\n",
      "P(present|past) = 0.09262478271666252\n",
      "------------------------------------\n",
      "past: ['<s>', 'no', 'one', 'expects', 'the', 'star', 'trek']\n",
      "present: ['movies']\n",
      "future: ['to', 'be', 'high', 'art', '</s>']\n",
      "P(present|past) = 0.016460905349794237\n",
      "------------------------------------\n",
      "past: ['<s>', 'no', 'one', 'expects', 'the', 'star', 'trek', 'movies']\n",
      "present: ['to']\n",
      "future: ['be', 'high', 'art', '</s>']\n",
      "P(present|past) = 0.013456136912927035\n",
      "------------------------------------\n",
      "past: ['<s>', 'no', 'one', 'expects', 'the', 'star', 'trek', 'movies', 'to']\n",
      "present: ['be']\n",
      "future: ['high', 'art', '</s>']\n",
      "P(present|past) = 0.08761244797183394\n",
      "------------------------------------\n",
      "past: ['<s>', 'no', 'one', 'expects', 'the', 'star', 'trek', 'movies', 'to', 'be']\n",
      "present: ['high']\n",
      "future: ['art', '</s>']\n",
      "P(present|past) = 0.00028098832961804323\n",
      "------------------------------------\n",
      "past: ['<s>', 'no', 'one', 'expects', 'the', 'star', 'trek', 'movies', 'to', 'be', 'high']\n",
      "present: ['art']\n",
      "future: ['</s>']\n",
      "P(present|past) = 0.00921234454168586\n",
      "------------------------------------\n",
      "past: ['<s>', 'no', 'one', 'expects', 'the', 'star', 'trek', 'movies', 'to', 'be', 'high', 'art']\n",
      "present: ['</s>']\n",
      "future: []\n",
      "P(present|past) = 0.12841091492776885\n",
      "------------------------------------\n",
      "4.868634179326359e-25\n"
     ]
    }
   ],
   "source": [
    "print(sentence_probability(\"<s> no one expects the star trek movies to be high art </s>\", model_2gram, verbose=True))"
   ]
  },
  {
   "cell_type": "markdown",
   "id": "4706f8a5",
   "metadata": {},
   "source": [
    "##### Trigram model"
   ]
  },
  {
   "cell_type": "code",
   "execution_count": 75,
   "id": "48fdb65f",
   "metadata": {},
   "outputs": [
    {
     "name": "stdout",
     "output_type": "stream",
     "text": [
      "past: []\n",
      "present: ['<s>']\n",
      "future: ['what']\n",
      "P(present|past) = 0.04810834875407402\n",
      "------------------------------------\n",
      "past: ['<s>']\n",
      "present: ['what']\n",
      "future: []\n",
      "P(present|past) = 0.008789974024773356\n",
      "------------------------------------\n"
     ]
    },
    {
     "data": {
      "text/plain": [
       "0.0004228711359230482"
      ]
     },
     "execution_count": 75,
     "metadata": {},
     "output_type": "execute_result"
    }
   ],
   "source": [
    "sentence_probability(\"<s> what\", model_3gram, verbose=True)"
   ]
  },
  {
   "cell_type": "code",
   "execution_count": 76,
   "id": "23258440",
   "metadata": {},
   "outputs": [
    {
     "data": {
      "text/plain": [
       "0.0004228711359230483"
      ]
     },
     "execution_count": 76,
     "metadata": {},
     "output_type": "execute_result"
    }
   ],
   "source": [
    "token_probability(['<s>', 'what'], model_3gram)"
   ]
  },
  {
   "cell_type": "code",
   "execution_count": 77,
   "id": "57be4316",
   "metadata": {},
   "outputs": [
    {
     "name": "stdout",
     "output_type": "stream",
     "text": [
      "past: []\n",
      "present: ['<s>']\n",
      "future: ['no', 'one', 'expects', 'the', 'star', 'trek', 'movies', 'to', 'be', 'high', 'art', '</s>']\n",
      "P(present|past) = 0.04810834875407402\n",
      "------------------------------------\n",
      "past: ['<s>']\n",
      "present: ['no']\n",
      "future: ['one', 'expects', 'the', 'star', 'trek', 'movies', 'to', 'be', 'high', 'art', '</s>']\n",
      "P(present|past) = 0.004055406705199845\n",
      "------------------------------------\n",
      "past: ['<s>', 'no']\n",
      "present: ['one']\n",
      "future: ['expects', 'the', 'star', 'trek', 'movies', 'to', 'be', 'high', 'art', '</s>']\n",
      "P(present|past) = 0.1297676457693994\n",
      "------------------------------------\n",
      "past: ['<s>', 'no', 'one']\n",
      "present: ['expects']\n",
      "future: ['the', 'star', 'trek', 'movies', 'to', 'be', 'high', 'art', '</s>']\n",
      "P(present|past) = 0.0033500837520938015\n",
      "------------------------------------\n",
      "past: ['<s>', 'no', 'one', 'expects']\n",
      "present: ['the']\n",
      "future: ['star', 'trek', 'movies', 'to', 'be', 'high', 'art', '</s>']\n",
      "P(present|past) = 0.15624999999999994\n",
      "------------------------------------\n",
      "past: ['<s>', 'no', 'one', 'expects', 'the']\n",
      "present: ['star']\n",
      "future: ['trek', 'movies', 'to', 'be', 'high', 'art', '</s>']\n",
      "P(present|past) = 0.05263157894736843\n",
      "------------------------------------\n",
      "past: ['<s>', 'no', 'one', 'expects', 'the', 'star']\n",
      "present: ['trek']\n",
      "future: ['movies', 'to', 'be', 'high', 'art', '</s>']\n",
      "P(present|past) = 0.08798283261802574\n",
      "------------------------------------\n",
      "past: ['<s>', 'no', 'one', 'expects', 'the', 'star', 'trek']\n",
      "present: ['movies']\n",
      "future: ['to', 'be', 'high', 'art', '</s>']\n",
      "P(present|past) = 0.02144772117962467\n",
      "------------------------------------\n",
      "past: ['<s>', 'no', 'one', 'expects', 'the', 'star', 'trek', 'movies']\n",
      "present: ['to']\n",
      "future: ['be', 'high', 'art', '</s>']\n",
      "P(present|past) = 0.12499999999999999\n",
      "------------------------------------\n",
      "past: ['<s>', 'no', 'one', 'expects', 'the', 'star', 'trek', 'movies', 'to']\n",
      "present: ['be']\n",
      "future: ['high', 'art', '</s>']\n",
      "P(present|past) = 0.1407766990291262\n",
      "------------------------------------\n",
      "past: ['<s>', 'no', 'one', 'expects', 'the', 'star', 'trek', 'movies', 'to', 'be']\n",
      "present: ['high']\n",
      "future: ['art', '</s>']\n",
      "P(present|past) = 0.00029798646290068537\n",
      "------------------------------------\n",
      "past: ['<s>', 'no', 'one', 'expects', 'the', 'star', 'trek', 'movies', 'to', 'be', 'high']\n",
      "present: ['art']\n",
      "future: ['</s>']\n",
      "P(present|past) = 0.13333333333333336\n",
      "------------------------------------\n",
      "past: ['<s>', 'no', 'one', 'expects', 'the', 'star', 'trek', 'movies', 'to', 'be', 'high', 'art']\n",
      "present: ['</s>']\n",
      "future: []\n",
      "P(present|past) = 0.24999999999999997\n",
      "------------------------------------\n",
      "2.300586394662109e-19\n"
     ]
    }
   ],
   "source": [
    "print(sentence_probability(\"<s> no one expects the star trek movies to be high art </s>\", model_3gram, verbose=True))"
   ]
  },
  {
   "cell_type": "markdown",
   "id": "20d2a4f1",
   "metadata": {},
   "source": [
    "Trigram probability is generally higher for \"natural\" sentences"
   ]
  },
  {
   "cell_type": "code",
   "execution_count": 112,
   "id": "45335b96",
   "metadata": {},
   "outputs": [
    {
     "name": "stdout",
     "output_type": "stream",
     "text": [
      "7.954344078841356e-18\n"
     ]
    }
   ],
   "source": [
    "print(sentence_probability(\"<s> one expects the star trek movies to be okay\", model_3gram))"
   ]
  },
  {
   "cell_type": "code",
   "execution_count": 109,
   "id": "e184c53b",
   "metadata": {},
   "outputs": [
    {
     "name": "stdout",
     "output_type": "stream",
     "text": [
      "2.883449728580011e-16\n"
     ]
    }
   ],
   "source": [
    "print(sentence_probability(\"<s> one expects the star trek movies to be fair\", model_3gram))"
   ]
  },
  {
   "cell_type": "code",
   "execution_count": 89,
   "id": "5e97d62f",
   "metadata": {},
   "outputs": [
    {
     "name": "stdout",
     "output_type": "stream",
     "text": [
      "2gram probability of '<s> a wonderful little production </s>': p =  7.83138402611925e-13\n",
      "3gram probability of '<s> a wonderful little production </s>': p =  6.345117780912522e-10\n"
     ]
    }
   ],
   "source": [
    "sent = \"<s> a wonderful little production </s>\"\n",
    "print(f\"2gram probability of '{sent}': p = \", sentence_probability(sent, model_2gram))\n",
    "print(f\"3gram probability of '{sent}': p = \", sentence_probability(sent, model_3gram))"
   ]
  },
  {
   "cell_type": "markdown",
   "id": "4f06640f",
   "metadata": {},
   "source": [
    "In general, the 3-gram model gives higher probabilities to more English looking sentences"
   ]
  },
  {
   "cell_type": "markdown",
   "id": "77b62b5b",
   "metadata": {},
   "source": [
    "### What kinds of knowledge we can get from a model?"
   ]
  },
  {
   "cell_type": "code",
   "execution_count": 114,
   "id": "0490f6d7",
   "metadata": {},
   "outputs": [
    {
     "name": "stdout",
     "output_type": "stream",
     "text": [
      "actor vs. actress\n",
      "=================\n",
      "good\n",
      "\t actor:  0.006738692547152538\n",
      "\t actress:  0.003296099615455045\n",
      "\t actor/actress ratio:  2.044444444444445\n",
      "great\n",
      "\t actor:  0.011464819880114068\n",
      "\t actress:  0.004655764418320434\n",
      "\t actor/actress ratio:  2.4625\n",
      "talented\n",
      "\t actor:  0.04549590536851683\n",
      "\t actress:  0.03366696997270246\n",
      "\t actor/actress ratio:  1.3513513513513513\n",
      "poor\n",
      "\t actor:  0.001943904470980283\n",
      "\t actress:  0.0005554012774229379\n",
      "\t actor/actress ratio:  3.500000000000001\n"
     ]
    }
   ],
   "source": [
    "model = model_3gram\n",
    "print(\"actor vs. actress\")\n",
    "print(\"=================\")\n",
    "\n",
    "for w in ['good', 'great', 'talented', 'poor']:\n",
    "    print(w)\n",
    "    p1 = conditional_probability(['actor'], [w.lower()], model)\n",
    "    p2 = conditional_probability(['actress'], [w.lower()], model)\n",
    "    print(\"\\t\",\"actor: \", p1)\n",
    "    print(\"\\t\",\"actress: \", p2)\n",
    "    print(\"\\t\",\"actor/actress ratio: \", p1 / p2)\n"
   ]
  },
  {
   "cell_type": "markdown",
   "id": "c48f358a",
   "metadata": {},
   "source": [
    "Gramer correction:"
   ]
  },
  {
   "cell_type": "code",
   "execution_count": 121,
   "id": "66ee66c0",
   "metadata": {},
   "outputs": [
    {
     "name": "stdout",
     "output_type": "stream",
     "text": [
      "3.7215893357787573e-09\n",
      "2.1854113201173367e-09\n"
     ]
    }
   ],
   "source": [
    "model = model_3gram\n",
    "print(sentence_probability(\"one of the best action movies </s>\", model))\n",
    "print(sentence_probability(\"one of the best action movie </s>\", model))"
   ]
  },
  {
   "cell_type": "code",
   "execution_count": 125,
   "id": "3bfb8380",
   "metadata": {},
   "outputs": [
    {
     "name": "stdout",
     "output_type": "stream",
     "text": [
      "5.7194121090505905e-09\n",
      "6.281872613389775e-08\n",
      "1.1115748059008867e-07\n"
     ]
    }
   ],
   "source": [
    "model = model_2gram\n",
    "print(sentence_probability(\"talking at her\", model))\n",
    "print(sentence_probability(\"talking with her\", model))\n",
    "print(sentence_probability(\"talking to her\", model))"
   ]
  },
  {
   "cell_type": "markdown",
   "id": "236f4c9b",
   "metadata": {},
   "source": [
    "Movies are more likely to be watched than read:"
   ]
  },
  {
   "cell_type": "code",
   "execution_count": 126,
   "id": "46fac9ca",
   "metadata": {},
   "outputs": [
    {
     "name": "stdout",
     "output_type": "stream",
     "text": [
      "5.005703106712864e-15\n",
      "5.081338926216576e-12\n"
     ]
    }
   ],
   "source": [
    "print(sentence_probability(\"<s> only one movie to read </s>\", model_3gram))\n",
    "print(sentence_probability(\"<s> only one movie to watch </s>\", model_3gram))"
   ]
  },
  {
   "cell_type": "markdown",
   "id": "9fa0f62b",
   "metadata": {},
   "source": [
    "### The method breaks when we ask for unseen ngrams:"
   ]
  },
  {
   "cell_type": "code",
   "execution_count": 127,
   "id": "db07eb6e",
   "metadata": {},
   "outputs": [
    {
     "name": "stdout",
     "output_type": "stream",
     "text": [
      "Unrecognized Token '['movie', 'to', 'bake']'\n"
     ]
    },
    {
     "ename": "ValueError",
     "evalue": "",
     "output_type": "error",
     "traceback": [
      "\u001b[0;31m---------------------------------------------------------------------------\u001b[0m",
      "\u001b[0;31mValueError\u001b[0m                                Traceback (most recent call last)",
      "Cell \u001b[0;32mIn[127], line 1\u001b[0m\n\u001b[0;32m----> 1\u001b[0m \u001b[38;5;28mprint\u001b[39m(\u001b[43msentence_probability\u001b[49m\u001b[43m(\u001b[49m\u001b[38;5;124;43m\"\u001b[39;49m\u001b[38;5;124;43m<s> a great movie to bake at home </s>\u001b[39;49m\u001b[38;5;124;43m\"\u001b[39;49m\u001b[43m,\u001b[49m\u001b[43m \u001b[49m\u001b[43mmodel_3gram\u001b[49m\u001b[43m)\u001b[49m)\n",
      "Cell \u001b[0;32mIn[36], line 64\u001b[0m, in \u001b[0;36msentence_probability\u001b[0;34m(sent, model, verbose, backoff)\u001b[0m\n\u001b[1;32m     60\u001b[0m     pr_token \u001b[38;5;241m=\u001b[39m conditional_probability_backoff(word_stream\u001b[38;5;241m.\u001b[39mpresent,\n\u001b[1;32m     61\u001b[0m                                                word_stream\u001b[38;5;241m.\u001b[39mpast[\u001b[38;5;241m-\u001b[39mng\u001b[38;5;241m+\u001b[39m\u001b[38;5;241m1\u001b[39m:],\n\u001b[1;32m     62\u001b[0m                                                model, verbose\u001b[38;5;241m=\u001b[39mverbose)\n\u001b[1;32m     63\u001b[0m \u001b[38;5;28;01melse\u001b[39;00m:\n\u001b[0;32m---> 64\u001b[0m     pr_token \u001b[38;5;241m=\u001b[39m \u001b[43mconditional_probability\u001b[49m\u001b[43m(\u001b[49m\u001b[43mword_stream\u001b[49m\u001b[38;5;241;43m.\u001b[39;49m\u001b[43mpresent\u001b[49m\u001b[43m,\u001b[49m\u001b[43m \u001b[49m\u001b[43mword_stream\u001b[49m\u001b[38;5;241;43m.\u001b[39;49m\u001b[43mpast\u001b[49m\u001b[43m[\u001b[49m\u001b[38;5;241;43m-\u001b[39;49m\u001b[43mng\u001b[49m\u001b[38;5;241;43m+\u001b[39;49m\u001b[38;5;241;43m1\u001b[39;49m\u001b[43m:\u001b[49m\u001b[43m]\u001b[49m\u001b[43m,\u001b[49m\n\u001b[1;32m     65\u001b[0m \u001b[43m                                       \u001b[49m\u001b[43mmodel\u001b[49m\u001b[43m)\u001b[49m\n\u001b[1;32m     66\u001b[0m logprob \u001b[38;5;241m+\u001b[39m\u001b[38;5;241m=\u001b[39m np\u001b[38;5;241m.\u001b[39mlog(pr_token)\n\u001b[1;32m     67\u001b[0m \u001b[38;5;28;01mif\u001b[39;00m verbose:\n",
      "Cell \u001b[0;32mIn[36], line 30\u001b[0m, in \u001b[0;36mconditional_probability\u001b[0;34m(token_a, token_b, model, verbose)\u001b[0m\n\u001b[1;32m     24\u001b[0m \u001b[38;5;250m\u001b[39m\u001b[38;5;124;03m\"\"\"\u001b[39;00m\n\u001b[1;32m     25\u001b[0m \u001b[38;5;124;03mProbability of token_a given token_b under the model\u001b[39;00m\n\u001b[1;32m     26\u001b[0m \u001b[38;5;124;03m(token can contain multiple words depending on the model definition)\u001b[39;00m\n\u001b[1;32m     27\u001b[0m \u001b[38;5;124;03m\"\"\"\u001b[39;00m\n\u001b[1;32m     29\u001b[0m pr_b \u001b[38;5;241m=\u001b[39m token_probability(token_b, model)\n\u001b[0;32m---> 30\u001b[0m pr_ab \u001b[38;5;241m=\u001b[39m \u001b[43mtoken_probability\u001b[49m\u001b[43m(\u001b[49m\u001b[43mtoken_b\u001b[49m\u001b[43m \u001b[49m\u001b[38;5;241;43m+\u001b[39;49m\u001b[43m \u001b[49m\u001b[43mtoken_a\u001b[49m\u001b[43m,\u001b[49m\u001b[43m \u001b[49m\u001b[43mmodel\u001b[49m\u001b[43m)\u001b[49m\n\u001b[1;32m     31\u001b[0m \u001b[38;5;28;01mreturn\u001b[39;00m pr_ab \u001b[38;5;241m/\u001b[39m pr_b\n",
      "Cell \u001b[0;32mIn[36], line 20\u001b[0m, in \u001b[0;36mtoken_probability\u001b[0;34m(token, model)\u001b[0m\n\u001b[1;32m     17\u001b[0m                                             \u001b[38;5;66;03m# the token is smaller than an n-gram\u001b[39;00m\n\u001b[1;32m     18\u001b[0m \u001b[38;5;66;03m# else:\u001b[39;00m\n\u001b[1;32m     19\u001b[0m \u001b[38;5;28mprint\u001b[39m(\u001b[38;5;124mf\u001b[39m\u001b[38;5;124m\"\u001b[39m\u001b[38;5;124mUnrecognized Token \u001b[39m\u001b[38;5;124m'\u001b[39m\u001b[38;5;132;01m{\u001b[39;00mtoken\u001b[38;5;132;01m}\u001b[39;00m\u001b[38;5;124m'\u001b[39m\u001b[38;5;124m\"\u001b[39m)\n\u001b[0;32m---> 20\u001b[0m \u001b[38;5;28;01mraise\u001b[39;00m \u001b[38;5;167;01mValueError\u001b[39;00m\n",
      "\u001b[0;31mValueError\u001b[0m: "
     ]
    }
   ],
   "source": [
    "print(sentence_probability(\"<s> a great movie to bake at home </s>\", model_3gram))"
   ]
  },
  {
   "cell_type": "markdown",
   "id": "ac3a7db5",
   "metadata": {},
   "source": [
    "One solution is \"simple backoff\":\n",
    "$$\n",
    "\\Pr[w_i|w_{i-N+1}^{i-1}] \\approx \\Pr[w_i|w_{i-k+2}^{i-1}]\n",
    "$$\n",
    "(removing words from the tail of the conditioned sentence)"
   ]
  },
  {
   "cell_type": "code",
   "execution_count": 128,
   "id": "6a88a2af",
   "metadata": {},
   "outputs": [
    {
     "name": "stdout",
     "output_type": "stream",
     "text": [
      "past: []\n",
      "present: ['<s>']\n",
      "future: ['a', 'great', 'movie', 'to', 'bake', 'at', 'home', '</s>']\n",
      "P(present|past) = 0.04810834875407402\n",
      "------------------------------------\n",
      "past: ['<s>']\n",
      "present: ['a']\n",
      "future: ['great', 'movie', 'to', 'bake', 'at', 'home', '</s>']\n",
      "P(present|past) = 0.01580559649681132\n",
      "------------------------------------\n",
      "past: ['<s>', 'a']\n",
      "present: ['great']\n",
      "future: ['movie', 'to', 'bake', 'at', 'home', '</s>']\n",
      "P(present|past) = 0.025084364454443193\n",
      "------------------------------------\n",
      "past: ['<s>', 'a', 'great']\n",
      "present: ['movie']\n",
      "future: ['to', 'bake', 'at', 'home', '</s>']\n",
      "P(present|past) = 0.09749626927541037\n",
      "------------------------------------\n",
      "past: ['<s>', 'a', 'great', 'movie']\n",
      "present: ['to']\n",
      "future: ['bake', 'at', 'home', '</s>']\n",
      "P(present|past) = 0.0599250936329588\n",
      "------------------------------------\n",
      "Token_a = ['bake'], Backing-off from ['movie', 'to'] to ['to']...\n",
      "past: ['<s>', 'a', 'great', 'movie', 'to']\n",
      "present: ['bake']\n",
      "future: ['at', 'home', '</s>']\n",
      "P(present|past) = 1.1224940320733958e-05\n",
      "------------------------------------\n",
      "Token_a = ['at'], Backing-off from ['to', 'bake'] to ['bake']...\n",
      "past: ['<s>', 'a', 'great', 'movie', 'to', 'bake']\n",
      "present: ['at']\n",
      "future: ['home', '</s>']\n",
      "P(present|past) = 0.003975450551490164\n",
      "------------------------------------\n",
      "Token_a = ['home'], Backing-off from ['bake', 'at'] to ['at']...\n",
      "past: ['<s>', 'a', 'great', 'movie', 'to', 'bake', 'at']\n",
      "present: ['home']\n",
      "future: ['</s>']\n",
      "P(present|past) = 0.009552701219905762\n",
      "------------------------------------\n",
      "past: ['<s>', 'a', 'great', 'movie', 'to', 'bake', 'at', 'home']\n",
      "present: ['</s>']\n",
      "future: []\n",
      "P(present|past) = 0.20720720720720723\n",
      "------------------------------------\n",
      "9.843116164822187e-18\n"
     ]
    }
   ],
   "source": [
    "print(sentence_probability(\"<s> a great movie to bake at home </s>\", model_3gram, backoff=True, verbose=True))"
   ]
  },
  {
   "cell_type": "markdown",
   "id": "d63a11c9",
   "metadata": {},
   "source": [
    "Note that with \"simple backoff\" we no longer have a probability distribution interpertation. \n",
    "\n",
    "Other techniques to handle zeros: See [Jurafsky & Martin] for details. "
   ]
  },
  {
   "cell_type": "markdown",
   "id": "e6a2845d",
   "metadata": {},
   "source": [
    "## logloss/Logloss/Empirical Entropy\n",
    "\n",
    "### Log logloss of sequence $w^n=(w_1,\\ldots,w_n)$ under model P:\n",
    "$$\n",
    "logloss(w^n,P) = - \\frac{1}{n} \\log(\\Pr[w^n]) = - \\frac{1}{n} \\sum_{i=1}^n \\log(\\Pr[w_i|w^{i-1}_{i-N+1}]) \n",
    "$$"
   ]
  },
  {
   "cell_type": "code",
   "execution_count": 129,
   "id": "25902bf6",
   "metadata": {},
   "outputs": [],
   "source": [
    "def logloss(sentence: str, model: pd.DataFrame) -> float:\n",
    "    \"\"\"\n",
    "    evalaute the logloss of `sentence` under the model\n",
    "    \"\"\"\n",
    "    N = len(sentence.split())\n",
    "    prob = sentence_probability(sentence, model, backoff=True)\n",
    "    return -np.log(prob) / N\n",
    "        "
   ]
  },
  {
   "cell_type": "markdown",
   "id": "4efdf70b",
   "metadata": {},
   "source": [
    "Logloss of a single sentence:"
   ]
  },
  {
   "cell_type": "code",
   "execution_count": 130,
   "id": "0c5b2cd5",
   "metadata": {},
   "outputs": [
    {
     "name": "stdout",
     "output_type": "stream",
     "text": [
      "Sentence:  <s> not as good as your average movie but still does the trick </s>\n",
      "Logloss of bigram model = 4.60081664621313\n",
      "Logloss of trigram model = 3.645750498744358\n",
      "\n",
      "Sentence:  <s> great do me but soon get out </s>\n",
      "Logloss of bigram model = 5.580155663436397\n",
      "Logloss of trigram model = 5.353465224792829\n",
      "\n"
     ]
    }
   ],
   "source": [
    "sentences = [\"<s> not as good as your average movie but still does the trick </s>\",\n",
    "             \"<s> great do me but soon get out </s>\"]\n",
    "\n",
    "for sent in sentences:\n",
    "    print(\"Sentence: \", sent)\n",
    "    print(f\"Logloss of bigram model = {logloss(sent, model_2gram)}\")\n",
    "    print(f\"Logloss of trigram model = {logloss(sent, model_3gram)}\")\n",
    "    print()"
   ]
  },
  {
   "cell_type": "markdown",
   "id": "077dd5cf",
   "metadata": {},
   "source": [
    "Logloss of many sentences"
   ]
  },
  {
   "cell_type": "code",
   "execution_count": 131,
   "id": "3c4710e0",
   "metadata": {},
   "outputs": [],
   "source": [
    "import re\n",
    "\n",
    "\n",
    "def preprocess_sentence(text: str) -> str:\n",
    "    \"\"\"\n",
    "    clean text according to tokenizer and  \n",
    "    add sybols indicating beginning and ending\n",
    "    \"\"\"\n",
    "    return  '<s> ' + \" \".join(re.findall(TOKEN_PATTERN, text)).lower() + ' </s>'\n",
    "\n",
    "\n",
    "def to_sentences(text: str) -> list:\n",
    "    \"\"\"\n",
    "    Convert text after preprocessing to a list \n",
    "    of sentences\n",
    "    \"\"\"\n",
    "    text = clean_text(text)\n",
    "    sentences = split_to_sentences(text)\n",
    "    return [preprocess_sentence(sent) for sent in sentences if len(sent.split()) > 2]\n",
    "\n"
   ]
  },
  {
   "cell_type": "code",
   "execution_count": 132,
   "id": "421c72ff",
   "metadata": {},
   "outputs": [
    {
     "name": "stderr",
     "output_type": "stream",
     "text": [
      " 86%|████████▌ | 86/100 [03:27<00:42,  3.01s/it]"
     ]
    },
    {
     "name": "stdout",
     "output_type": "stream",
     "text": [
      "Unrecognized Token '['</s>']'\n",
      "Cound not evaluate logloss of sent:  <s> dr jacques coulardeau university paris dauphine university paris pantheon sorbonne university versailles saint quentin en yvelines </s>\n"
     ]
    },
    {
     "name": "stderr",
     "output_type": "stream",
     "text": [
      "100%|██████████| 100/100 [04:08<00:00,  2.49s/it]"
     ]
    },
    {
     "name": "stdout",
     "output_type": "stream",
     "text": [
      "Average LPP of bigram model over 100 samples: 4.6892438508442025, (std = 0.5122211742369691)\n"
     ]
    },
    {
     "name": "stderr",
     "output_type": "stream",
     "text": [
      "\n"
     ]
    }
   ],
   "source": [
    "model = model_2gram\n",
    "\n",
    "N = 100\n",
    "test_set = df.sample(N).review.apply(clean_text)\n",
    "\n",
    "ls = []\n",
    "for doc in tqdm(test_set):\n",
    "    for sent in to_sentences(doc):\n",
    "        try:\n",
    "            ll = logloss(sent, model)\n",
    "            if ll > 0:\n",
    "                ls += [ll]\n",
    "        except:\n",
    "            print(\"Cound not evaluate logloss of sent: \", sent)\n",
    "print(f\"Average logloss of bigram model over {N} samples: {np.mean(ls)}, (std = {np.std(ls)})\")\n"
   ]
  },
  {
   "cell_type": "markdown",
   "id": "fc0821c7",
   "metadata": {},
   "source": [
    "## Sampling from the model\n",
    "generate random sentences according to model's probability"
   ]
  },
  {
   "cell_type": "code",
   "execution_count": 133,
   "id": "0d8f950b",
   "metadata": {},
   "outputs": [],
   "source": [
    "import warnings\n",
    "\n",
    "warnings.simplefilter(action='ignore', category=pd.errors.PerformanceWarning)\n",
    "\n",
    "def sample_from_model(ngram_model, prompt=['<s>']):\n",
    "    \n",
    "    def sample_from_list(df):\n",
    "        return df.sample(n=1, weights = df.freq)\n",
    "    \n",
    "    w = ''\n",
    "    state = prompt\n",
    "    smp = sample_from_list(ngram_model.loc[state])\n",
    "    state = list(smp.index[0][1:])\n",
    "    w = list(state)\n",
    "    while w[-1] != '</s>': \n",
    "        df_pool = ngram_model.loc[tuple(state)]\n",
    "        smp = df_pool.sample(n=1, weights = df_pool.freq)\n",
    "        state = state[1:] + [smp.index[0]]\n",
    "        w.append(state[-1])\n",
    "    return w[:-1] + ['</s>']"
   ]
  },
  {
   "cell_type": "code",
   "execution_count": 135,
   "id": "b0566409",
   "metadata": {},
   "outputs": [
    {
     "name": "stdout",
     "output_type": "stream",
     "text": [
      "<s> i really felt nervous for them to prevent sleepiness among the worst part is how they defeated the livonian knights eager to party like it songs and the lost souls trying to anticipate great acting and a little dog as a typical example although he isn t that good </s>\n"
     ]
    }
   ],
   "source": [
    "prompt = ['<s>']\n",
    "print(\" \".join(prompt + sample_from_model(model_3gram, prompt=prompt)))"
   ]
  },
  {
   "cell_type": "markdown",
   "id": "61a4a302",
   "metadata": {},
   "source": [
    "# Approximating Shakespeare \n",
    "\n",
    "Shakespeare corpus: \n",
    "\n",
    "$N=899,680$ tokens, $V \\approx 29,000$ \n",
    "Shakespeare produced $\\approx 300,000$ bigram types out of $V^2 ~ 844 \\times 10^6$ possiblee bigrams.\n",
    "- 99.96% of possible bigrams were never seen (have zro entries in the table)\n",
    "- Quadragrams is worse: what's coming out looks like Shakespeare because it *is* Shakespeare"
   ]
  },
  {
   "cell_type": "code",
   "execution_count": 139,
   "id": "db7c883e",
   "metadata": {},
   "outputs": [
    {
     "name": "stderr",
     "output_type": "stream",
     "text": [
      "[nltk_data] Error loading punkt: <urlopen error [SSL:\n",
      "[nltk_data]     CERTIFICATE_VERIFY_FAILED] certificate verify failed:\n",
      "[nltk_data]     unable to get local issuer certificate (_ssl.c:1007)>\n"
     ]
    }
   ],
   "source": [
    "import nltk\n",
    "nltk.download('punkt')\n",
    "\n",
    "def to_sentences(text):\n",
    "    \"\"\"\n",
    "    Convert text to a list of sentences. The sentence parser is based on the nltk library.\n",
    "    \"\"\"\n",
    "    return nltk.sent_tokenize(text)\n"
   ]
  },
  {
   "cell_type": "code",
   "execution_count": 142,
   "id": "d6a7af34",
   "metadata": {},
   "outputs": [
    {
     "name": "stdout",
     "output_type": "stream",
     "text": [
      "Number of tokens =  899680\n",
      "Number of sentences =  95981\n"
     ]
    }
   ],
   "source": [
    "with open(\"/Users/kipnisal/Data/Shakespeare_corpus.txt\", 'rt') as f:\n",
    "    text = f.read()\n",
    "print(\"Number of tokens = \", len(text.split()))\n",
    "shake_sentences = to_sentences(text)\n",
    "print(\"Number of sentences = \", len(shake_sentences))\n",
    "shake_text = \"\".join(['<s> ' + sent + ' </s> ' for sent in shake_sentences])"
   ]
  },
  {
   "cell_type": "code",
   "execution_count": 144,
   "id": "5bea2106",
   "metadata": {},
   "outputs": [
    {
     "name": "stdout",
     "output_type": "stream",
     "text": [
      "Cleaning text...\n",
      "Breaking to sentences\n",
      "Extracting tokens...\n"
     ]
    },
    {
     "name": "stderr",
     "output_type": "stream",
     "text": [
      "100%|██████████| 153729/153729 [00:00<00:00, 321965.19it/s]\n"
     ]
    },
    {
     "name": "stdout",
     "output_type": "stream",
     "text": [
      "Removing unacceptible tokens...\n",
      "Counting tokens...\n",
      "Computing frequencies...\n"
     ]
    }
   ],
   "source": [
    "shake_2g = build_ngram_model(shake_text, 2)"
   ]
  },
  {
   "cell_type": "code",
   "execution_count": 150,
   "id": "7f63508a",
   "metadata": {},
   "outputs": [
    {
     "name": "stdout",
     "output_type": "stream",
     "text": [
      "<s> i would it is already sir this your stomach for the vantage but thine </s>\n"
     ]
    }
   ],
   "source": [
    "prompt = ['<s>']\n",
    "print(\" \".join(prompt + sample_from_model(shake_2g, prompt=prompt)))"
   ]
  },
  {
   "cell_type": "code",
   "execution_count": 152,
   "id": "5e6be827",
   "metadata": {},
   "outputs": [
    {
     "name": "stdout",
     "output_type": "stream",
     "text": [
      "Cleaning text...\n",
      "Breaking to sentences\n",
      "Extracting tokens...\n"
     ]
    },
    {
     "name": "stderr",
     "output_type": "stream",
     "text": [
      "100%|██████████| 153729/153729 [00:00<00:00, 256524.10it/s]\n"
     ]
    },
    {
     "name": "stdout",
     "output_type": "stream",
     "text": [
      "Removing unacceptible tokens...\n",
      "Counting tokens...\n",
      "Computing frequencies...\n"
     ]
    }
   ],
   "source": [
    "shake_4g = build_ngram_model(shake_text, 4)"
   ]
  },
  {
   "cell_type": "code",
   "execution_count": 161,
   "id": "e82b15cb",
   "metadata": {},
   "outputs": [
    {
     "name": "stdout",
     "output_type": "stream",
     "text": [
      "<s> o th purpose not go in the clouds to my father made your mind he told you must deck thy pocket of shame </s>\n",
      "<s> the king of bitter </s>\n",
      "<s> antipholus of taper here before others </s>\n",
      "<s> why do not gaunt </s>\n",
      "<s> adriana </s>\n"
     ]
    }
   ],
   "source": [
    "prompt = ['<s>']\n",
    "for _ in range(5):\n",
    "    print(\" \".join(prompt + sample_from_model(shake_2g, prompt=prompt)))"
   ]
  },
  {
   "cell_type": "markdown",
   "id": "75da9c07",
   "metadata": {},
   "source": [
    "### Aside: Shakeseare Insult Generator\n",
    "\n",
    "Web: https://codepo8.github.io/shakespeare-insult-generator/\n",
    "\n",
    "Code: https://github.com/codepo8/shakespeare-insult-generator/blob/master/index.html"
   ]
  },
  {
   "cell_type": "code",
   "execution_count": 1324,
   "id": "2847589b",
   "metadata": {},
   "outputs": [],
   "source": [
    "insults = [\n",
    "        ['artless','bawdy','beslubbering','bootless','churlish','cockered','clouted','craven','currish','dankish','dissembling','droning','errant','fawning','fobbing','froward','frothy','gleeking','goatish','gorbellied','impertinent','infectious','jarring','joggerheaded','lumpish','mammering','mangled','mewling','paunchy','pribbling','puking','puny','rank','reeky','roguish','ruftish','saucy','spleeny','spongy','surly','tottering','unmuzzled','vain','venomed','villainous','warped','wayward','weedy','yeasty'],\n",
    "        ['base-court','bat-forling','beef-witted','beetle-headed','boil-brained','clapper-clawed','clay-brained','common-kissing','crook-pated','dismal-dreaming','dizzy-eyed','doghearted','dread-bolted','earth-vexing','elf-skinned','fat-kidneyed','fen-sucked','flap-mothed','fly-bitten','folly-fallen','fool-born','fill-gorged','guts-griping','half-faced','hasty-witted','hedge-born','hell-hated','idle-headed','ill-breeding','ill-nurtured','knotty-pated','milk-livered','motley-minded','onion-eyed','plume-plucked','pottle-deep','pox-marked','reeling-ripe','rough-hewn','rude-growing','rump-faced','shard-borne','sheep-biting','spur-galled','swag-bellied','tardy-gaited','tickle-brained','toad-spotted','unchin-snoted','weather-bitten'],\n",
    "        ['apple-john','baggage','barnacle','bladder','boar-pig','bugbear','bum-bailey','canket-blossom','clack-dish','clotpole','coxcomb','codpiece','death-token','dewberry','flap-dragon','flax-wench','flirt-gill','foot-licker','futilarrian','giglet','gudgeon','haggard','harpy','hedge-pig','horn-beast','hugger-mugger','joithead','lewduster','lout','maggot-pie','malt-worm','mammet','measle','minnow','miscreant','moldwarp','mumble-news','nut-hook','pigeon-egg','pignut','puttock','pumbion','ratsbane','scut','skainsmate','strumpot','varlot','vassal','wheyface','wagtail']\n",
    "      ]"
   ]
  },
  {
   "cell_type": "code",
   "execution_count": 1352,
   "id": "d686d7ca",
   "metadata": {},
   "outputs": [
    {
     "data": {
      "text/plain": [
       "'Thou pribbling doghearted, vassal!'"
      ]
     },
     "execution_count": 1352,
     "metadata": {},
     "output_type": "execute_result"
    }
   ],
   "source": [
    "ww = []\n",
    "for i in range(3):\n",
    "    smp = insults[i][np.random.randint(len(insults[i]))]\n",
    "    ww.append(smp)\n",
    "\n",
    "f\"Thou {ww[0]} {ww[1]}, {ww[2]}!\""
   ]
  },
  {
   "cell_type": "markdown",
   "id": "a867050f",
   "metadata": {},
   "source": [
    "### Pride an Prejudice \n",
    "(in homework)"
   ]
  },
  {
   "cell_type": "code",
   "execution_count": 167,
   "id": "75203710",
   "metadata": {},
   "outputs": [
    {
     "name": "stdout",
     "output_type": "stream",
     "text": [
      "Number of tokens =  124467\n",
      "Number of sentences =  4775\n"
     ]
    }
   ],
   "source": [
    "with open(\"/Users/kipnisal/Data/pride_and_prejudice.txt\", 'rt') as f:\n",
    "    text = f.read()\n",
    "print(\"Number of tokens = \", len(text.split()))\n",
    "pnp_sentences = to_sentences(text)\n",
    "print(\"Number of sentences = \", len(pnp_sentences))\n",
    "pnp_text = \"\".join(['<s> ' + sent + ' </s> ' for sent in pnp_sentences])"
   ]
  },
  {
   "cell_type": "code",
   "execution_count": 170,
   "id": "3520d326",
   "metadata": {},
   "outputs": [
    {
     "name": "stdout",
     "output_type": "stream",
     "text": [
      "Cleaning text...\n",
      "Breaking to sentences\n",
      "Extracting tokens...\n"
     ]
    },
    {
     "name": "stderr",
     "output_type": "stream",
     "text": [
      "100%|██████████| 18878/18878 [00:00<00:00, 174785.04it/s]"
     ]
    },
    {
     "name": "stdout",
     "output_type": "stream",
     "text": [
      "Removing unacceptible tokens...\n"
     ]
    },
    {
     "name": "stderr",
     "output_type": "stream",
     "text": [
      "\n"
     ]
    },
    {
     "name": "stdout",
     "output_type": "stream",
     "text": [
      "Counting tokens...\n",
      "Computing frequencies...\n"
     ]
    }
   ],
   "source": [
    "pnp_4g = build_ngram_model(pnp_text, 3)"
   ]
  },
  {
   "cell_type": "code",
   "execution_count": 172,
   "id": "dd507c8f",
   "metadata": {},
   "outputs": [
    {
     "name": "stdout",
     "output_type": "stream",
     "text": [
      "<s> it will not take the place immediately and jane blushed but the person who </s>\n",
      "<s> the rest </s>\n",
      "<s> caroline bingley </s>\n",
      "<s> no it would be necessary to turn his thoughts </s>\n",
      "<s> gutenberg tm work and the rest of her former lover </s>\n",
      "<s> way imaginable </s>\n",
      "<s> impossible not to be true and i are going up </s>\n",
      "<s> gravity and thoughtfulness there had arisen his </s>\n",
      "<s> and i could bear </s>\n",
      "<s> elizabeth soon lagged behind while elizabeth tried to the ball in a much more advantageously in many </s>\n"
     ]
    }
   ],
   "source": [
    "prompt = ['<s>']\n",
    "for _ in range(10):\n",
    "    print(\" \".join(prompt + sample_from_model(pnp_3g, prompt=prompt)))"
   ]
  },
  {
   "cell_type": "code",
   "execution_count": null,
   "id": "9d3ab94c",
   "metadata": {},
   "outputs": [],
   "source": []
  }
 ],
 "metadata": {
  "kernelspec": {
   "display_name": "Python 3",
   "language": "python",
   "name": "python3"
  },
  "language_info": {
   "codemirror_mode": {
    "name": "ipython",
    "version": 3
   },
   "file_extension": ".py",
   "mimetype": "text/x-python",
   "name": "python",
   "nbconvert_exporter": "python",
   "pygments_lexer": "ipython3",
   "version": "3.10.11"
  }
 },
 "nbformat": 4,
 "nbformat_minor": 5
}
