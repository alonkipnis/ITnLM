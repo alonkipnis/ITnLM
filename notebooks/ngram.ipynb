{
 "cells": [
  {
   "cell_type": "markdown",
   "id": "9bbde9cf",
   "metadata": {},
   "source": [
    "# N-gram Models\n",
    "\n",
    "To do:\n",
    " - switch to model from ngram extractor (rather than CountVectorizer)\n",
    " - implement class NgramModel with method: sampling"
   ]
  },
  {
   "cell_type": "code",
   "execution_count": 712,
   "id": "7ed0823e",
   "metadata": {},
   "outputs": [],
   "source": [
    "import pandas as pd\n",
    "from sklearn.feature_extraction.text import CountVectorizer as CV\n",
    "import numpy as np\n",
    "from matplotlib import pyplot as plt\n",
    "\n",
    "TOKEN_PATTERN = r\"(?u)\\b[a-zA-Z]+\\b|\\</?s\\>\"\n",
    "SENT_START_TOKEN = '<s>'\n",
    "SENT_END_TOKEN = '</s>'"
   ]
  },
  {
   "cell_type": "markdown",
   "id": "cf7fcd1c",
   "metadata": {},
   "source": [
    "## Large Movie Review Dataset\n",
    "From https://ai.stanford.edu/~amaas/data/sentiment/: This is a dataset for binary sentiment classification containing substantially more data than previous benchmark datasets. We provide a set of 25,000 highly polar movie reviews for training, and 25,000 for testing. There is additional unlabeled data for use as well. Raw text and already processed bag of words formats are provided. See the README file contained in the release for more details.\n",
    "\n",
    "(direct link https://ai.stanford.edu/~amaas/data/sentiment/aclImdb_v1.tar.gz)\n",
    "\n",
    "Here we use this dataset arranged in a .csv file as an be found at https://www.kaggle.com/datasets/lakshmi25npathi/imdb-dataset-of-50k-movie-reviews?resource=download\n"
   ]
  },
  {
   "cell_type": "markdown",
   "id": "149338d4",
   "metadata": {},
   "source": [
    "Read dataset file. Each row is a review. "
   ]
  },
  {
   "cell_type": "code",
   "execution_count": 714,
   "id": "6c901e97",
   "metadata": {},
   "outputs": [],
   "source": []
  },
  {
   "cell_type": "code",
   "execution_count": 1088,
   "id": "82a2ff84",
   "metadata": {},
   "outputs": [
    {
     "name": "stdout",
     "output_type": "stream",
     "text": [
      "                                                   review sentiment\n",
      "count                                               50000     50000\n",
      "unique                                              49582         2\n",
      "top     <s> Loved today's show!!! It was a variety and...  positive\n",
      "freq                                                    5     25000\n",
      "                                              review sentiment\n",
      "0  <s> One of the other reviewers has mentioned t...  positive\n",
      "1  <s> A wonderful little production </s> <s>  <b...  positive\n",
      "2  <s> I thought this was a wonderful way to spen...  positive\n",
      "3  <s> Basically there's a family where a little ...  negative\n",
      "4  <s> Petter Mattei's \"Love in the Time of Money...  positive\n"
     ]
    }
   ],
   "source": [
    "df = pd.read_csv(\"/Users/kipnisal/Downloads/IMDB Dataset.csv\")\n",
    "print(df.describe())\n",
    "print(df.head())"
   ]
  },
  {
   "cell_type": "markdown",
   "id": "141e3a41",
   "metadata": {},
   "source": [
    "Add sentence start and ending symbols"
   ]
  },
  {
   "cell_type": "code",
   "execution_count": null,
   "id": "1dba948a",
   "metadata": {},
   "outputs": [],
   "source": [
    "import re\n",
    "\n",
    "def break_sentence(text: str, sep=r'\\.|\\n'):\n",
    "    \"\"\"\n",
    "    Add SENT_START_TOKEN and SENT_END_TOKEN at the beginning and\n",
    "    ending of every sentence. \n",
    "    \n",
    "    Args:\n",
    "        :text: is a text input\n",
    "        :sep: explains how to identify sentnce ending (regular expression)\n",
    "    \"\"\"\n",
    "    sentences = re.split(sep, text)\n",
    "    sent_break = f' {SENT_END_TOKEN} {SENT_START_TOKEN} '\n",
    "    return SENT_START_TOKEN + ' ' + sent_break.join(sentences) + ' ' + SENT_END_TOKEN\n",
    "\n",
    "df['review'] = df.review.apply(break_sentence)"
   ]
  },
  {
   "cell_type": "markdown",
   "id": "4f962cc6",
   "metadata": {},
   "source": [
    "## Unigram Model"
   ]
  },
  {
   "cell_type": "markdown",
   "id": "7006783e",
   "metadata": {},
   "source": [
    "Use CountVectorizer from sklearn package. This module is used for counting the number of occurances of \n",
    "all ngrams in a list of strings. The range (n,n+k) means count n-grams, (n+1)-grams,...,(n+k) grams. To \n",
    "get only k-grams, we use 'ngram_range=(n,n)'. We change the token pattern becsasue by the standard CV pattern\n",
    "\"r'\\b\\w\\w+\\b'\" requires at least two letters in every word and ignores the sepical symbols $<s>$ and $</s>$\n",
    "\n",
    "Below we count unigrams, hence we take $n=1$ "
   ]
  },
  {
   "cell_type": "markdown",
   "id": "e261bd34",
   "metadata": {},
   "source": [
    "We first list all words. We remove numbers and white spaces and lower case the text."
   ]
  },
  {
   "cell_type": "code",
   "execution_count": 723,
   "id": "fb19ccc2",
   "metadata": {},
   "outputs": [],
   "source": [
    "tokens = []\n",
    "for sent in df['review']:\n",
    "    tokens += re.findall(TOKEN_PATTERN, sent.lower())"
   ]
  },
  {
   "cell_type": "markdown",
   "id": "a92bf7e0",
   "metadata": {},
   "source": [
    "The next line do the actualy counting. It returns a (sparse) matrix indicating the number of occurances of each\n",
    "ngram (rows) in each document (columns). "
   ]
  },
  {
   "cell_type": "code",
   "execution_count": 726,
   "id": "94dd5c6f",
   "metadata": {},
   "outputs": [],
   "source": [
    "df_counts = pd.DataFrame(pd.DataFrame(tokens).value_counts())\\\n",
    "                .rename(columns = {0 : 'count'})\n",
    "\n",
    "df_counts.loc[:, 'freq'] = df_counts['count'] / df_counts['count'].sum()\n",
    "model_1gram = df_counts"
   ]
  },
  {
   "cell_type": "code",
   "execution_count": 727,
   "id": "b57f1af2",
   "metadata": {},
   "outputs": [
    {
     "data": {
      "text/html": [
       "<div>\n",
       "<style scoped>\n",
       "    .dataframe tbody tr th:only-of-type {\n",
       "        vertical-align: middle;\n",
       "    }\n",
       "\n",
       "    .dataframe tbody tr th {\n",
       "        vertical-align: top;\n",
       "    }\n",
       "\n",
       "    .dataframe thead th {\n",
       "        text-align: right;\n",
       "    }\n",
       "</style>\n",
       "<table border=\"1\" class=\"dataframe\">\n",
       "  <thead>\n",
       "    <tr style=\"text-align: right;\">\n",
       "      <th></th>\n",
       "      <th>count</th>\n",
       "      <th>freq</th>\n",
       "    </tr>\n",
       "    <tr>\n",
       "      <th>0</th>\n",
       "      <th></th>\n",
       "      <th></th>\n",
       "    </tr>\n",
       "  </thead>\n",
       "  <tbody>\n",
       "    <tr>\n",
       "      <th>&lt;/s&gt;</th>\n",
       "      <td>700520</td>\n",
       "      <td>0.052692</td>\n",
       "    </tr>\n",
       "    <tr>\n",
       "      <th>&lt;s&gt;</th>\n",
       "      <td>700520</td>\n",
       "      <td>0.052692</td>\n",
       "    </tr>\n",
       "    <tr>\n",
       "      <th>the</th>\n",
       "      <td>667993</td>\n",
       "      <td>0.050246</td>\n",
       "    </tr>\n",
       "    <tr>\n",
       "      <th>and</th>\n",
       "      <td>324441</td>\n",
       "      <td>0.024404</td>\n",
       "    </tr>\n",
       "    <tr>\n",
       "      <th>a</th>\n",
       "      <td>322970</td>\n",
       "      <td>0.024294</td>\n",
       "    </tr>\n",
       "    <tr>\n",
       "      <th>of</th>\n",
       "      <td>289410</td>\n",
       "      <td>0.021769</td>\n",
       "    </tr>\n",
       "    <tr>\n",
       "      <th>to</th>\n",
       "      <td>268124</td>\n",
       "      <td>0.020168</td>\n",
       "    </tr>\n",
       "    <tr>\n",
       "      <th>is</th>\n",
       "      <td>211082</td>\n",
       "      <td>0.015877</td>\n",
       "    </tr>\n",
       "    <tr>\n",
       "      <th>br</th>\n",
       "      <td>201951</td>\n",
       "      <td>0.015191</td>\n",
       "    </tr>\n",
       "    <tr>\n",
       "      <th>it</th>\n",
       "      <td>190857</td>\n",
       "      <td>0.014356</td>\n",
       "    </tr>\n",
       "    <tr>\n",
       "      <th>in</th>\n",
       "      <td>186781</td>\n",
       "      <td>0.014050</td>\n",
       "    </tr>\n",
       "    <tr>\n",
       "      <th>i</th>\n",
       "      <td>175633</td>\n",
       "      <td>0.013211</td>\n",
       "    </tr>\n",
       "    <tr>\n",
       "      <th>this</th>\n",
       "      <td>151002</td>\n",
       "      <td>0.011358</td>\n",
       "    </tr>\n",
       "    <tr>\n",
       "      <th>that</th>\n",
       "      <td>143879</td>\n",
       "      <td>0.010822</td>\n",
       "    </tr>\n",
       "    <tr>\n",
       "      <th>s</th>\n",
       "      <td>125008</td>\n",
       "      <td>0.009403</td>\n",
       "    </tr>\n",
       "  </tbody>\n",
       "</table>\n",
       "</div>"
      ],
      "text/plain": [
       "       count      freq\n",
       "0                     \n",
       "</s>  700520  0.052692\n",
       "<s>   700520  0.052692\n",
       "the   667993  0.050246\n",
       "and   324441  0.024404\n",
       "a     322970  0.024294\n",
       "of    289410  0.021769\n",
       "to    268124  0.020168\n",
       "is    211082  0.015877\n",
       "br    201951  0.015191\n",
       "it    190857  0.014356\n",
       "in    186781  0.014050\n",
       "i     175633  0.013211\n",
       "this  151002  0.011358\n",
       "that  143879  0.010822\n",
       "s     125008  0.009403"
      ]
     },
     "execution_count": 727,
     "metadata": {},
     "output_type": "execute_result"
    }
   ],
   "source": [
    "model_1gram.head(15)"
   ]
  },
  {
   "cell_type": "markdown",
   "id": "e6bbc182",
   "metadata": {},
   "source": [
    "We see that the two special symbols are also most frequent. These are meaningless in a unigram model hence we remove them. "
   ]
  },
  {
   "cell_type": "code",
   "execution_count": 735,
   "id": "448623d4",
   "metadata": {},
   "outputs": [],
   "source": [
    "model_1gram = model_1gram.drop(['</s>', '<s>'])\n",
    "model_1gram['freq'] = model_1gram['count'] / model_1gram['count'].sum()"
   ]
  },
  {
   "cell_type": "markdown",
   "id": "97b40ac5",
   "metadata": {},
   "source": [
    "Illustrating \"Zipf law\" $f_i \\propto 1/i$ for uniframs. Zipf \"law\" is a phenomena discovered by American linguist George Kingsley Zipf\n",
    "https://en.wikipedia.org/wiki/George_Kingsley_Zipf\n",
    "\n",
    "The Zipf phenomena only occurs in the most frequent words, after which the tail become thiner than $1/i$. "
   ]
  },
  {
   "cell_type": "code",
   "execution_count": 736,
   "id": "a01791b1",
   "metadata": {},
   "outputs": [
    {
     "data": {
      "image/png": "[encoded data removed]",
      "text/plain": [
       "<Figure size 432x288 with 1 Axes>"
      ]
     },
     "metadata": {
      "needs_background": "light"
     },
     "output_type": "display_data"
    },
    {
     "data": {
      "image/png": "[encoded data removed]",
      "text/plain": [
       "<Figure size 432x288 with 1 Axes>"
      ]
     },
     "metadata": {
      "needs_background": "light"
     },
     "output_type": "display_data"
    }
   ],
   "source": [
    "plt.title(\"inverse\")\n",
    "plt.plot(1 / model_1gram.freq.values[:1000])\n",
    "plt.show()\n",
    "\n",
    "plt.title(\"log-log\")\n",
    "plt.loglog(model_1gram.freq.values[:1000])\n",
    "plt.show()"
   ]
  },
  {
   "cell_type": "markdown",
   "id": "243d1015",
   "metadata": {},
   "source": [
    "The entire procedure is summarized as follows"
   ]
  },
  {
   "cell_type": "code",
   "execution_count": 1246,
   "id": "8887cde2",
   "metadata": {},
   "outputs": [],
   "source": [
    "from nltk import ngrams\n",
    "\n",
    "def ng_tokenize(text, ng):\n",
    "    \"\"\"\n",
    "    extract ngram and add sepcial symbols\n",
    "    \"\"\"\n",
    "    tokens = re.findall(TOKEN_PATTERN, text.lower())\n",
    "    ngz = ngrams(tokens, ng,\n",
    "                   pad_left=True, pad_right=True,\n",
    "                   left_pad_symbol=SENT_START_TOKEN, right_pad_symbol=SENT_END_TOKEN)\n",
    "    return list(ngz)\n",
    "\n",
    "\n",
    "def build_ngram_model(text, ng):\n",
    "    print(\"Cleaning text...\")\n",
    "    text = re.sub(r\"<br ?/>\",\"\", text)  # remove html tags <br /> and <br/>\n",
    "    print(\"Extracting tokens...\")\n",
    "    tokens = ng_tokenize(text, ng)\n",
    "    print(\"Removing unwanted tokens...\")\n",
    "    tokens = [t for t in tokens if not (('<s>' in t[1:]) or ('</s>' in t[:-1]) or (t == (\"<s>\", \"</s>\")))]\n",
    "    print(\"Counting tokens...\")\n",
    "    df_ng = pd.DataFrame(pd.DataFrame(tokens).value_counts()).rename(columns = {0 : 'count'})\n",
    "    print(\"Computing frequencies...\")\n",
    "    df_ng.loc[:, 'freq'] = df_ng['count'] / df_ng['count'].sum()  # compute frequencies\n",
    "    return df_ng"
   ]
  },
  {
   "cell_type": "markdown",
   "id": "ed661ad4",
   "metadata": {},
   "source": [
    "## Bigrams"
   ]
  },
  {
   "cell_type": "code",
   "execution_count": 1247,
   "id": "62c495e6",
   "metadata": {},
   "outputs": [
    {
     "name": "stdout",
     "output_type": "stream",
     "text": [
      "Cleaning text...\n",
      "Extracting tokens...\n",
      "Removing unwanted tokens...\n",
      "Counting tokens...\n",
      "Computing frequencies...\n"
     ]
    }
   ],
   "source": [
    "model_2gram = build_ngram_model(\" \".join(df.review), 2)"
   ]
  },
  {
   "cell_type": "code",
   "execution_count": 1250,
   "id": "de272a9b",
   "metadata": {},
   "outputs": [
    {
     "name": "stdout",
     "output_type": "stream",
     "text": [
      " 15 most frequenct tokens:\n",
      "            count      freq\n",
      "0    1                     \n",
      "of   the    77220  0.006284\n",
      "<s>  the    72914  0.005933\n",
      "     i      60028  0.004885\n",
      "in   the    50258  0.004090\n",
      "<s>  it     33949  0.002763\n",
      "it   s      33748  0.002746\n",
      "this movie  31481  0.002562\n",
      "<s>  this   27899  0.002270\n",
      "the  film   26920  0.002191\n",
      "and  the    26672  0.002170\n",
      "is   a      26060  0.002121\n",
      "the  movie  23955  0.001949\n",
      "to   the    23616  0.001922\n",
      "     be     23481  0.001911\n",
      "this film   21813  0.001775\n"
     ]
    }
   ],
   "source": [
    "k = 15\n",
    "print(f\" {k} most frequenct tokens:\")\n",
    "print(model_2gram.head(k))"
   ]
  },
  {
   "cell_type": "markdown",
   "id": "ffe44c17",
   "metadata": {},
   "source": [
    "Bigrams also obey the Zipf law:"
   ]
  },
  {
   "cell_type": "code",
   "execution_count": 1143,
   "id": "947bf036",
   "metadata": {},
   "outputs": [
    {
     "data": {
      "image/png": "[encoded data removed]",
      "text/plain": [
       "<Figure size 432x288 with 1 Axes>"
      ]
     },
     "metadata": {
      "needs_background": "light"
     },
     "output_type": "display_data"
    },
    {
     "data": {
      "image/png": "[encoded data removed]",
      "text/plain": [
       "<Figure size 432x288 with 1 Axes>"
      ]
     },
     "metadata": {
      "needs_background": "light"
     },
     "output_type": "display_data"
    }
   ],
   "source": [
    "plt.title(\"inverse\")\n",
    "plt.plot(1 / df2g.freq.values[:1000])\n",
    "plt.show()\n",
    "\n",
    "plt.title(\"log-log\")\n",
    "plt.loglog(df2g.freq.values[:1000])\n",
    "plt.show()"
   ]
  },
  {
   "cell_type": "markdown",
   "id": "acee8153",
   "metadata": {},
   "source": [
    "## Trigrams"
   ]
  },
  {
   "cell_type": "code",
   "execution_count": 1144,
   "id": "0e204d08",
   "metadata": {},
   "outputs": [
    {
     "name": "stdout",
     "output_type": "stream",
     "text": [
      "Cleaning text...\n",
      "Extracting ngrams...\n",
      "Removing unwanted ngrams...\n",
      "Counting ngrams...\n",
      "Computing frequencies...\n"
     ]
    }
   ],
   "source": [
    "model_3gram = build_ngram_model(\" \".join(df.review), 3)"
   ]
  },
  {
   "cell_type": "code",
   "execution_count": 1255,
   "id": "81b824ad",
   "metadata": {},
   "outputs": [
    {
     "name": "stdout",
     "output_type": "stream",
     "text": [
      "15 most frequent 3grams:\n",
      "                  count      freq\n",
      "0    1     2                     \n",
      "<s>  it    s      11082  0.000948\n",
      "one  of    the     9819  0.000840\n",
      "<s>  this  is      8664  0.000741\n",
      "     it    is      5913  0.000506\n",
      "     if    you     5818  0.000498\n",
      "     this  movie   5757  0.000493\n",
      "i    don   t       5415  0.000463\n",
      "this movie is      5262  0.000450\n",
      "of   the   film    5169  0.000442\n",
      "this is    a       4810  0.000412\n",
      "it   s     a       4700  0.000402\n",
      "a    lot   of      4694  0.000402\n",
      "this movie </s>    4468  0.000382\n",
      "of   the   movie   4325  0.000370\n",
      "<s>  the   film    4324  0.000370\n"
     ]
    }
   ],
   "source": [
    "k = 15\n",
    "print(f\"{k} most frequent 3grams:\")\n",
    "print(model_3gram.head(k))"
   ]
  },
  {
   "cell_type": "markdown",
   "id": "ec6cbb72",
   "metadata": {},
   "source": [
    "# Sentence probability\n"
   ]
  },
  {
   "cell_type": "code",
   "execution_count": 1146,
   "id": "2de00faa",
   "metadata": {},
   "outputs": [],
   "source": [
    "class State(object):\n",
    "    \"\"\"\n",
    "    simple class to handle sequential state progression\n",
    "    \n",
    "    Args:\n",
    "        past, present, future  are lists\n",
    "        \n",
    "    Methods:\n",
    "        State::step   update one step in time, so that the present \n",
    "        is appended to the past and the present gets the next value from the future\n",
    "    \"\"\"\n",
    "    def __init__(self, past, present, future):\n",
    "        self.past = past\n",
    "        self.present = present\n",
    "        self.future = future\n",
    "        \n",
    "    def step(self):\n",
    "        self.past += self.present\n",
    "        if len(self.future) > 0:\n",
    "            self.present = [self.future.pop(0)]\n",
    "        else:\n",
    "            self.present = []\n",
    "            self.future = []\n"
   ]
  },
  {
   "cell_type": "code",
   "execution_count": 1147,
   "id": "f5ef78ea",
   "metadata": {},
   "outputs": [],
   "source": [
    "\n",
    "def token_probability(token : str, model):\n",
    "    \"\"\"\n",
    "    probability of a token under the model\n",
    "    \n",
    "    Note: gives the marginal if number of ngrams in token is smaller\n",
    "    than the size of the model\n",
    "    \n",
    "    If token = \"\" then return 1\n",
    "    \n",
    "    \"\"\"\n",
    "    if len(token) == 0:\n",
    "        return 1\n",
    "    token_idx = tuple(token)\n",
    "    return model.loc[token_idx].freq.sum()\n",
    "\n",
    "\n",
    "def conditional_probability(token_a : str, token_b : str, model):\n",
    "    \"\"\"\n",
    "    Probability of :token_a: given :token_b: under model :model:\n",
    "    \"\"\"\n",
    "    \n",
    "    pr_b = token_probability(token_b, model)\n",
    "    pr_ab = token_probability(token_b + token_a, model)\n",
    "    return pr_ab / pr_b\n",
    "    \n",
    "    \n",
    "def sentence_probability(sent: str, model, verbose=False):\n",
    "    \"\"\"\n",
    "    Probability of a sentence under an n-gram languge model\n",
    "    \n",
    "    Args:\n",
    "        :sent:    the sentence \n",
    "        :model:   the model\n",
    "        :verbose: flag whther to print computing process\n",
    "    \"\"\"\n",
    "    \n",
    "    ng = len(model.index[0])  # identify model order\n",
    "\n",
    "    sent_atoms = sent.split()  \n",
    "    first_ngram =sent_atoms[:ng] \n",
    "\n",
    "    state = State(past=[], present=first_ngram, future=sent_atoms[ng:])\n",
    "\n",
    "    # update state\n",
    "    logprob = 0\n",
    "    while len(state.present) > 0:\n",
    "        pr_token = conditional_probability(state.present, state.past[-ng+1:], model)\n",
    "        logprob += np.log(pr_token)\n",
    "        if verbose:\n",
    "            print(\"past:\", state.past)\n",
    "            print(\"present:\", state.present)\n",
    "            print(\"future:\", state.future)\n",
    "            print(f\"P(present|past) = {pr_token}\")\n",
    "            print(\"------------------------------------\")\n",
    "        state.step()\n",
    "\n",
    "    return np.exp(logprob)\n"
   ]
  },
  {
   "cell_type": "code",
   "execution_count": 1159,
   "id": "bc97ef4b",
   "metadata": {},
   "outputs": [
    {
     "data": {
      "text/plain": [
       "5.421248159871611e-15"
      ]
     },
     "execution_count": 1159,
     "metadata": {},
     "output_type": "execute_result"
    }
   ],
   "source": [
    "sentence_probability(\"<s> only one movie to read </s>\", model_3gram)"
   ]
  },
  {
   "cell_type": "markdown",
   "id": "9f2f2314",
   "metadata": {},
   "source": [
    "Make sure that conditional probability behaves as expected:"
   ]
  },
  {
   "cell_type": "code",
   "execution_count": 1263,
   "id": "4ebf74b3",
   "metadata": {},
   "outputs": [],
   "source": [
    "test_tokens = ['<s>', 'on', 'of', 'there', 'movie']\n",
    "for t in test_tokens:\n",
    "    assert conditional_probability([t],[], model_2gram) == token_probability([t], model_2gram)"
   ]
  },
  {
   "cell_type": "markdown",
   "id": "574b855e",
   "metadata": {},
   "source": [
    "### Probability of a bigram:"
   ]
  },
  {
   "cell_type": "code",
   "execution_count": 1163,
   "id": "270e7aa9",
   "metadata": {},
   "outputs": [
    {
     "name": "stdout",
     "output_type": "stream",
     "text": [
      "0.30314453671736497\n",
      "0.0013218255416502392\n",
      "7.921010475950982e-07\n",
      "1.0761849552581969e-05\n"
     ]
    }
   ],
   "source": [
    "print(conditional_probability(['of'], ['one'], model_2gram)) #* token_probability('one', model_2gram))\n",
    "print(sentence_probability(\"one of\", model_2gram))\n",
    "print(sentence_probability(\"<s> one of </s>\", model_2gram))\n",
    "print(sentence_probability(\"one of </s>\", model_2gram))"
   ]
  },
  {
   "cell_type": "markdown",
   "id": "671406e3",
   "metadata": {},
   "source": [
    "Explain why the first two are identical and why the last two are different."
   ]
  },
  {
   "cell_type": "markdown",
   "id": "b84c0d7f",
   "metadata": {},
   "source": [
    "#### Probability of a longer sentence:"
   ]
  },
  {
   "cell_type": "markdown",
   "id": "b098ca5c",
   "metadata": {},
   "source": [
    "##### Bigram model:"
   ]
  },
  {
   "cell_type": "code",
   "execution_count": 1179,
   "id": "7f1cac02",
   "metadata": {},
   "outputs": [
    {
     "name": "stdout",
     "output_type": "stream",
     "text": [
      "past: []\n",
      "present: ['<s>', 'what']\n",
      "future: ['a', 'great', 'movie', 'it', 'was', '</s>']\n",
      "P(present|past) = 0.0004417748624488519\n",
      "------------------------------------\n",
      "past: ['<s>', 'what']\n",
      "present: ['a']\n",
      "future: ['great', 'movie', 'it', 'was', '</s>']\n",
      "P(present|past) = 0.059117428003972204\n",
      "------------------------------------\n",
      "past: ['<s>', 'what', 'a']\n",
      "present: ['great']\n",
      "future: ['movie', 'it', 'was', '</s>']\n",
      "P(present|past) = 0.01866883871027684\n",
      "------------------------------------\n",
      "past: ['<s>', 'what', 'a', 'great']\n",
      "present: ['movie']\n",
      "future: ['it', 'was', '</s>']\n",
      "P(present|past) = 0.04405602117335686\n",
      "------------------------------------\n",
      "past: ['<s>', 'what', 'a', 'great', 'movie']\n",
      "present: ['it']\n",
      "future: ['was', '</s>']\n",
      "P(present|past) = 0.01125831580144425\n",
      "------------------------------------\n",
      "past: ['<s>', 'what', 'a', 'great', 'movie', 'it']\n",
      "present: ['was']\n",
      "future: ['</s>']\n",
      "P(present|past) = 0.08854251287991151\n",
      "------------------------------------\n",
      "past: ['<s>', 'what', 'a', 'great', 'movie', 'it', 'was']\n",
      "present: ['</s>']\n",
      "future: []\n",
      "P(present|past) = 0.01233470036826247\n",
      "------------------------------------\n",
      "2.641149479780036e-13\n"
     ]
    }
   ],
   "source": [
    "print(sentence_probability(\"<s> what a great movie it was </s>\", model_2gram, verbose=True))"
   ]
  },
  {
   "cell_type": "markdown",
   "id": "7f64212f",
   "metadata": {},
   "source": [
    "##### Trigram model"
   ]
  },
  {
   "cell_type": "code",
   "execution_count": 1180,
   "id": "61024343",
   "metadata": {},
   "outputs": [
    {
     "name": "stdout",
     "output_type": "stream",
     "text": [
      "past: []\n",
      "present: ['<s>', 'what', 'a']\n",
      "future: ['great', 'movie', 'it', 'was', '</s>']\n",
      "P(present|past) = 7.015180851362348e-05\n",
      "------------------------------------\n",
      "past: ['<s>', 'what', 'a']\n",
      "present: ['great']\n",
      "future: ['movie', 'it', 'was', '</s>']\n",
      "P(present|past) = 0.05984251968503937\n",
      "------------------------------------\n",
      "past: ['<s>', 'what', 'a', 'great']\n",
      "present: ['movie']\n",
      "future: ['it', 'was', '</s>']\n",
      "P(present|past) = 0.0975447909754479\n",
      "------------------------------------\n",
      "past: ['<s>', 'what', 'a', 'great', 'movie']\n",
      "present: ['it']\n",
      "future: ['was', '</s>']\n",
      "P(present|past) = 0.02377972465581978\n",
      "------------------------------------\n",
      "past: ['<s>', 'what', 'a', 'great', 'movie', 'it']\n",
      "present: ['was']\n",
      "future: ['</s>']\n",
      "P(present|past) = 0.11818181818181817\n",
      "------------------------------------\n",
      "past: ['<s>', 'what', 'a', 'great', 'movie', 'it', 'was']\n",
      "present: ['</s>']\n",
      "future: []\n",
      "P(present|past) = 0.019947910500769505\n",
      "------------------------------------\n",
      "2.295660835856814e-11\n"
     ]
    }
   ],
   "source": [
    "print(sentence_probability(\"<s> what a great movie it was </s>\", model_3gram, verbose=True))"
   ]
  },
  {
   "cell_type": "markdown",
   "id": "9c7fb614",
   "metadata": {},
   "source": [
    "Trigram probability is higher for more \"natural\" sentences"
   ]
  },
  {
   "cell_type": "code",
   "execution_count": 1183,
   "id": "8bb7cc5f",
   "metadata": {},
   "outputs": [
    {
     "name": "stdout",
     "output_type": "stream",
     "text": [
      "1.7686057752001027e-08\n"
     ]
    }
   ],
   "source": [
    "print(sentence_probability(\"one of the best action movies\", model_3gram))"
   ]
  },
  {
   "cell_type": "code",
   "execution_count": 1184,
   "id": "8394245d",
   "metadata": {},
   "outputs": [
    {
     "name": "stdout",
     "output_type": "stream",
     "text": [
      "3.0318956146287426e-09\n"
     ]
    }
   ],
   "source": [
    "print(sentence_probability(\"one of the best car movie\", model_3gram))"
   ]
  },
  {
   "cell_type": "markdown",
   "id": "9ee7134f",
   "metadata": {},
   "source": [
    "The method breaks when we ask for unseen ngrams:"
   ]
  },
  {
   "cell_type": "code",
   "execution_count": 1171,
   "id": "8b9376d2",
   "metadata": {},
   "outputs": [
    {
     "name": "stdout",
     "output_type": "stream",
     "text": [
      "Issue with trigram  ('movie', 'to', 'bake')\n"
     ]
    }
   ],
   "source": [
    "try:\n",
    "    print(sentence_probability(\"<s> only one movie to bake </s>\", model_3gram))\n",
    "except KeyError as e:\n",
    "    print(\"Issue with trigram \", e)\n",
    "    "
   ]
  },
  {
   "cell_type": "markdown",
   "id": "fe236430",
   "metadata": {},
   "source": [
    "One solution is smoothing"
   ]
  },
  {
   "cell_type": "code",
   "execution_count": 1187,
   "id": "958fa571",
   "metadata": {},
   "outputs": [
    {
     "name": "stdout",
     "output_type": "stream",
     "text": [
      "2gram probability of '<s> a wonderful little production </s>': p =  8.746416808025598e-13\n",
      "3gram probability of '<s> a wonderful little production </s>': p =  7.385032510793528e-10\n"
     ]
    }
   ],
   "source": [
    "sent = \"<s> a wonderful little production </s>\"\n",
    "print(f\"2gram probability of '{sent}': p = \", sentence_probability(sent, model_2gram))\n",
    "print(f\"3gram probability of '{sent}': p = \", sentence_probability(sent, model_3gram))"
   ]
  },
  {
   "cell_type": "markdown",
   "id": "f718cd79",
   "metadata": {},
   "source": [
    "In general, the 3-gram model suppose to give higher probabilities to more English looking sentences"
   ]
  },
  {
   "cell_type": "markdown",
   "id": "1ce4ed6a",
   "metadata": {},
   "source": [
    "Explain the last difference"
   ]
  },
  {
   "cell_type": "markdown",
   "id": "0a225eff",
   "metadata": {},
   "source": [
    "### What kinds of knowledge we can get from a model?"
   ]
  },
  {
   "cell_type": "code",
   "execution_count": 1254,
   "id": "eb2a92b0",
   "metadata": {},
   "outputs": [
    {
     "name": "stdout",
     "output_type": "stream",
     "text": [
      "actor vs. actress\n",
      "=================\n",
      "good\n",
      "\tactor:  0.006785661602006195\n",
      "\tactoress:  0.0033190736096769436\n",
      "\tratio:  2.0444444444444443\n",
      "great\n",
      "\tactor:  0.011454619835193736\n",
      "\tactoress:  0.004675355034772954\n",
      "\tratio:  2.45\n",
      "talented\n",
      "\tactor:  0.04562043795620438\n",
      "\tactoress:  0.03375912408759124\n",
      "\tratio:  1.3513513513513513\n",
      "poor\n",
      "\tactor:  0.001956400223588597\n",
      "\tactoress:  0.0005589714924538849\n",
      "\tratio:  3.5\n"
     ]
    }
   ],
   "source": [
    "model = model_3gram\n",
    "print(\"actor vs. actress\")\n",
    "print(\"=================\")\n",
    "\n",
    "for w in ['good', 'great', 'talented', 'poor']:\n",
    "    print(w)\n",
    "    p1 = conditional_probability(['actor'], [w.lower()], model)\n",
    "    p2 = conditional_probability(['actress'], [w.lower()], model)\n",
    "    print(\"\\tactor: \", p1)\n",
    "    print(\"\\tactoress: \", p2)\n",
    "    print(\"\\tratio: \", p1/p2)\n"
   ]
  },
  {
   "cell_type": "markdown",
   "id": "9c4e2e68",
   "metadata": {},
   "source": [
    "Gramer correction:"
   ]
  },
  {
   "cell_type": "code",
   "execution_count": 326,
   "id": "56f3f2e0",
   "metadata": {},
   "outputs": [
    {
     "name": "stdout",
     "output_type": "stream",
     "text": [
      "1.0445645846615367e-09\n",
      "2.628834536554988e-10\n"
     ]
    }
   ],
   "source": [
    "print(sentence_probability(\"one of the best action movies ever\", df3g, df2g))\n",
    "print(sentence_probability(\"one of the best action movie ever\", df3g, df2g))"
   ]
  },
  {
   "cell_type": "markdown",
   "id": "98c65aae",
   "metadata": {},
   "source": [
    "The first option is more likely"
   ]
  },
  {
   "cell_type": "code",
   "execution_count": 327,
   "id": "6335688a",
   "metadata": {},
   "outputs": [
    {
     "name": "stdout",
     "output_type": "stream",
     "text": [
      "1.1738447131142477e-07\n",
      "6.065403352933208e-09\n"
     ]
    }
   ],
   "source": [
    "print(sentence_probability(\"talking to her\", df2g, df1g))\n",
    "print(sentence_probability(\"talking at her\", df2g, df1g))"
   ]
  },
  {
   "cell_type": "markdown",
   "id": "320ee892",
   "metadata": {},
   "source": [
    "Movies are more likely to be watched than read:"
   ]
  },
  {
   "cell_type": "code",
   "execution_count": 1165,
   "id": "f577d1aa",
   "metadata": {},
   "outputs": [
    {
     "name": "stdout",
     "output_type": "stream",
     "text": [
      "5.421248159871611e-15\n",
      "5.748805396404806e-12\n"
     ]
    }
   ],
   "source": [
    "print(sentence_probability(\"<s> only one movie to read </s>\", model_3gram))\n",
    "print(sentence_probability(\"<s> only one movie to watch </s>\", model_3gram))"
   ]
  },
  {
   "cell_type": "code",
   "execution_count": 1367,
   "id": "038d867a",
   "metadata": {},
   "outputs": [
    {
     "name": "stdout",
     "output_type": "stream",
     "text": [
      "/Users/kipnisal/Teaching/IT/notebooks\n"
     ]
    }
   ],
   "source": [
    "!pwd"
   ]
  },
  {
   "cell_type": "markdown",
   "id": "dad58c24",
   "metadata": {},
   "source": [
    "## Perplexity"
   ]
  },
  {
   "cell_type": "code",
   "execution_count": 1204,
   "id": "a5969c4f",
   "metadata": {},
   "outputs": [],
   "source": [
    "def sentence_probability_soft(sent: str, model, verbose=False):\n",
    "    \"\"\"\n",
    "    Probability of a sentence under an n-gram languge model\n",
    "    \n",
    "    Args:\n",
    "        :sent:    the sentence \n",
    "        :model:   the model\n",
    "        :verbose: flag whther to print computing process\n",
    "    \"\"\"\n",
    "    \n",
    "    ng = len(model.index[0])  # identify model order\n",
    "\n",
    "    sent_atoms = sent.split()  \n",
    "    first_ngram =sent_atoms[:ng] \n",
    "\n",
    "    state = State(past=[], present=first_ngram, future=sent_atoms[ng:])\n",
    "\n",
    "    # update state\n",
    "    logprob = 0\n",
    "    N = len(sent_atoms)\n",
    "    while len(state.present) > 0:\n",
    "        try:\n",
    "            pr_token = conditional_probability(state.present, state.past[-ng+1:], model)\n",
    "        except KeyError as e:\n",
    "            print(f\"Could not evaluate token {e}.\")\n",
    "            pr_token = 1\n",
    "            N = N - 1\n",
    "        logprob += np.log(pr_token)\n",
    "        if verbose:\n",
    "            print(\"past:\", state.past)\n",
    "            print(\"present:\", state.present)\n",
    "            print(\"future:\", state.future)\n",
    "            print(f\"P(present|past) = {pr_token}\")\n",
    "            print(\"------------------------------------\")\n",
    "        state.step()\n",
    "\n",
    "    return np.exp(logprob), N\n"
   ]
  },
  {
   "cell_type": "code",
   "execution_count": 1205,
   "id": "060011e5",
   "metadata": {},
   "outputs": [],
   "source": [
    "def perplexity(sentence, model):\n",
    "    prob, N_valid = sentence_probability_soft(sentence, model)\n",
    "    return -np.log(prob) / N_valid\n",
    "        "
   ]
  },
  {
   "cell_type": "code",
   "execution_count": 1237,
   "id": "ef4c6e44",
   "metadata": {},
   "outputs": [],
   "source": [
    "import re\n",
    "\n",
    "def preprocess_sentence(text):\n",
    "    n = ng\n",
    "    text = re.sub(r\"<br ?/>\", \"\", text)  # remove the word '<br />' if it exists in the text\n",
    "    return \" \".join(re.findall(TOKEN_PATTERN, text)).lower()"
   ]
  },
  {
   "cell_type": "code",
   "execution_count": 413,
   "id": "1e0bee36",
   "metadata": {},
   "outputs": [],
   "source": [
    "def to_sentences(text):\n",
    "    text = text.strip('<s> ').strip(' </s>')\n",
    "    texts = text.split(' </s> <s> ')\n",
    "    return [t.strip() for t in texts]"
   ]
  },
  {
   "cell_type": "markdown",
   "id": "3a5cc0f7",
   "metadata": {},
   "source": [
    "Perplexity of one sentence:"
   ]
  },
  {
   "cell_type": "code",
   "execution_count": 1269,
   "id": "59690dcf",
   "metadata": {},
   "outputs": [
    {
     "name": "stdout",
     "output_type": "stream",
     "text": [
      "Sentence:  <s> not as good as your average movie but still does the trick </s>\n",
      "LPP of bigram model = 4.598590373748019\n",
      "LPP of trigram model = 3.6343560644357678\n",
      "\n",
      "Sentence:  <s> great do me but soon get out </s>\n",
      "LPP of bigram model = 5.564016303930118\n",
      "Could not evaluate token ('<s>', 'great', 'do').\n",
      "Could not evaluate token ('great', 'do', 'me').\n",
      "Could not evaluate token ('do', 'me', 'but').\n",
      "Could not evaluate token ('but', 'soon', 'get').\n",
      "Could not evaluate token ('soon', 'get', 'out').\n",
      "LPP of trigram model = 1.9915905582591367\n",
      "\n"
     ]
    }
   ],
   "source": [
    "sentences = [\"<s> not as good as your average movie but still does the trick </s>\",\n",
    "             \"<s> great do me but soon get out </s>\"]\n",
    "\n",
    "for sent in sentences:\n",
    "    print(\"Sentence: \", sent)\n",
    "    print(f\"LPP of bigram model = {perplexity(sent, model_2gram)}\")\n",
    "    print(f\"LPP of trigram model = {perplexity(sent, model_3gram)}\")\n",
    "    print()"
   ]
  },
  {
   "cell_type": "markdown",
   "id": "63c97fbf",
   "metadata": {},
   "source": [
    "Perplexity of many sentences"
   ]
  },
  {
   "cell_type": "code",
   "execution_count": 1239,
   "id": "5b61a415",
   "metadata": {},
   "outputs": [
    {
     "data": {
      "text/plain": [
       "'this documentary is such a wonderful example of what an entertaining and amazing experience a documentary can be if done so well as this'"
      ]
     },
     "execution_count": 1239,
     "metadata": {},
     "output_type": "execute_result"
    }
   ],
   "source": [
    "preprocess_sentence(sent)"
   ]
  },
  {
   "cell_type": "code",
   "execution_count": 1240,
   "id": "ae7e0baa",
   "metadata": {},
   "outputs": [
    {
     "name": "stderr",
     "output_type": "stream",
     "text": [
      "<ipython-input-1205-3cd308f3755c>:3: RuntimeWarning: invalid value encountered in double_scalars\n",
      "  return -np.log(prob) / N_valid\n"
     ]
    },
    {
     "name": "stdout",
     "output_type": "stream",
     "text": [
      "Average LPP of bigram model, (std) = 4.846886580620054, (0.6444064726951686)\n"
     ]
    }
   ],
   "source": [
    "N = 10\n",
    "\n",
    "model = model_2gram\n",
    "ng = 2\n",
    "\n",
    "test_set = df.sample(N).review\n",
    "\n",
    "ls = []\n",
    "for doc in test_set:\n",
    "    for sent in to_sentences(doc):\n",
    "        lpp = perplexity(preprocess_sentence(sent), model)\n",
    "        if lpp > 0:\n",
    "            ls += [lpp]\n",
    "print(f\"Average LPP of bigram model, (std) = {np.mean(ls)}, ({np.std(ls)})\")\n"
   ]
  },
  {
   "cell_type": "markdown",
   "id": "ccf5fecf",
   "metadata": {},
   "source": [
    "## Sampling from the model"
   ]
  },
  {
   "cell_type": "code",
   "execution_count": 1329,
   "id": "1f4e3229",
   "metadata": {},
   "outputs": [],
   "source": [
    "import warnings\n",
    "\n",
    "warnings.simplefilter(action='ignore', category=pd.errors.PerformanceWarning)\n",
    "\n",
    "\n",
    "def sample_from_model(ngram_model, prompt=['<s>']):\n",
    "    \n",
    "    def sample_from_list(df):\n",
    "        return df.sample(n=1, weights = df.freq)\n",
    "    \n",
    "    w = ''\n",
    "    state = prompt\n",
    "    \n",
    "    smp = sample_from_list(ngram_model.loc[state])\n",
    "    state = list(smp.index[0][1:])\n",
    "    w = list(state)\n",
    "    while w[-1] != '</s>': \n",
    "        df_pool = ngram_model.loc[tuple(state)]\n",
    "        smp = df_pool.sample(n=1, weights = df_pool.freq)\n",
    "        state = state[1:] + [smp.index[0]]\n",
    "        w.append(state[-1])\n",
    "    return w[:-1]"
   ]
  },
  {
   "cell_type": "code",
   "execution_count": 1334,
   "id": "74afbb09",
   "metadata": {},
   "outputs": [
    {
     "name": "stdout",
     "output_type": "stream",
     "text": [
      "if it was boring too rani is getting her back where he is driven on in years the cast do perfect jobs from the statue seems almost shakespearen in comparison\n"
     ]
    }
   ],
   "source": [
    "print(\" \".join(sample_from_model(ngram_model, prompt=['<s>', 'thou'])))"
   ]
  },
  {
   "cell_type": "code",
   "execution_count": null,
   "id": "75578f66",
   "metadata": {},
   "outputs": [],
   "source": []
  },
  {
   "cell_type": "code",
   "execution_count": null,
   "id": "8e9a8ee1",
   "metadata": {},
   "outputs": [],
   "source": [
    "Pr(-2log(p2 p1/p2) > a) = Pr(-2log(p2) -2\\log(p1/p2) > a)"
   ]
  },
  {
   "cell_type": "markdown",
   "id": "f78b6465",
   "metadata": {},
   "source": [
    "$n_0 e^{-\\bar{\\lambda}t} / N_t \\to 1$ as $n \\to \\infty$"
   ]
  },
  {
   "cell_type": "markdown",
   "id": "f1fb8761",
   "metadata": {},
   "source": [
    "# Approximating Shakespeare \n",
    "\n",
    "Shakespeare corpus: \n",
    "\n",
    "$N=899,680$ tokens, $V \\approx 29,000$ \n",
    "Shakespeare produced $\\approx 300,000$ bigram types out of $V^2 ~ 844 \\times 10^6$ possiblee bigrams.\n",
    "- 99.96% of possible bigrams were never seen (have zro entries in the table)\n",
    "- Quadragrams is worse: what's coming out looks like Shakespeare because it *is* Shakespeare"
   ]
  },
  {
   "cell_type": "code",
   "execution_count": 1274,
   "id": "3979da40",
   "metadata": {},
   "outputs": [
    {
     "name": "stdout",
     "output_type": "stream",
     "text": [
      "Number of tokens =  899680\n"
     ]
    }
   ],
   "source": [
    "with open(\"../Shakespeare_corpus.txt\", 'rt') as f:\n",
    "    text = f.read()\n",
    "print(\"Number of tokens = \", len(text.split()))"
   ]
  },
  {
   "cell_type": "code",
   "execution_count": 694,
   "id": "857d9337",
   "metadata": {},
   "outputs": [],
   "source": [
    "shake_2g = build_ngram_model(break_sentence(text), 2)"
   ]
  },
  {
   "cell_type": "code",
   "execution_count": 1307,
   "id": "eba6e7fd",
   "metadata": {},
   "outputs": [
    {
     "name": "stdout",
     "output_type": "stream",
     "text": [
      "the thing not redressed is copyright by such copies may hie thee\n"
     ]
    }
   ],
   "source": [
    "sample_text = \" \".join(sample_from_model(shake_2g))\n",
    "print(sample_text)"
   ]
  },
  {
   "cell_type": "code",
   "execution_count": 679,
   "id": "9174f77a",
   "metadata": {},
   "outputs": [],
   "source": [
    "shake_4g = build_ngram_model(break_sentence(text), 4)"
   ]
  },
  {
   "cell_type": "code",
   "execution_count": 1308,
   "id": "d9fcf837",
   "metadata": {},
   "outputs": [
    {
     "name": "stdout",
     "output_type": "stream",
     "text": [
      "our youths and wildness shall no whit appear\n"
     ]
    }
   ],
   "source": [
    "sample_text = \" \".join(sample_from_model(shake_4g))\n",
    "print(sample_text)"
   ]
  },
  {
   "cell_type": "markdown",
   "id": "21bebfae",
   "metadata": {},
   "source": [
    "### Shakeseare Insult Generator\n",
    "\n",
    "Web: https://codepo8.github.io/shakespeare-insult-generator/\n",
    "\n",
    "Code: https://github.com/codepo8/shakespeare-insult-generator/blob/master/index.html"
   ]
  },
  {
   "cell_type": "code",
   "execution_count": 1324,
   "id": "5d0c78e4",
   "metadata": {},
   "outputs": [],
   "source": [
    "insults = [\n",
    "        ['artless','bawdy','beslubbering','bootless','churlish','cockered','clouted','craven','currish','dankish','dissembling','droning','errant','fawning','fobbing','froward','frothy','gleeking','goatish','gorbellied','impertinent','infectious','jarring','joggerheaded','lumpish','mammering','mangled','mewling','paunchy','pribbling','puking','puny','rank','reeky','roguish','ruftish','saucy','spleeny','spongy','surly','tottering','unmuzzled','vain','venomed','villainous','warped','wayward','weedy','yeasty'],\n",
    "        ['base-court','bat-forling','beef-witted','beetle-headed','boil-brained','clapper-clawed','clay-brained','common-kissing','crook-pated','dismal-dreaming','dizzy-eyed','doghearted','dread-bolted','earth-vexing','elf-skinned','fat-kidneyed','fen-sucked','flap-mothed','fly-bitten','folly-fallen','fool-born','fill-gorged','guts-griping','half-faced','hasty-witted','hedge-born','hell-hated','idle-headed','ill-breeding','ill-nurtured','knotty-pated','milk-livered','motley-minded','onion-eyed','plume-plucked','pottle-deep','pox-marked','reeling-ripe','rough-hewn','rude-growing','rump-faced','shard-borne','sheep-biting','spur-galled','swag-bellied','tardy-gaited','tickle-brained','toad-spotted','unchin-snoted','weather-bitten'],\n",
    "        ['apple-john','baggage','barnacle','bladder','boar-pig','bugbear','bum-bailey','canket-blossom','clack-dish','clotpole','coxcomb','codpiece','death-token','dewberry','flap-dragon','flax-wench','flirt-gill','foot-licker','futilarrian','giglet','gudgeon','haggard','harpy','hedge-pig','horn-beast','hugger-mugger','joithead','lewduster','lout','maggot-pie','malt-worm','mammet','measle','minnow','miscreant','moldwarp','mumble-news','nut-hook','pigeon-egg','pignut','puttock','pumbion','ratsbane','scut','skainsmate','strumpot','varlot','vassal','wheyface','wagtail']\n",
    "      ]"
   ]
  },
  {
   "cell_type": "code",
   "execution_count": 1352,
   "id": "2da20935",
   "metadata": {},
   "outputs": [
    {
     "data": {
      "text/plain": [
       "'Thou pribbling doghearted, vassal!'"
      ]
     },
     "execution_count": 1352,
     "metadata": {},
     "output_type": "execute_result"
    }
   ],
   "source": [
    "ww = []\n",
    "for i in range(3):\n",
    "    smp = insults[i][np.random.randint(len(insults[i]))]\n",
    "    ww.append(smp)\n",
    "\n",
    "f\"Thou {ww[0]} {ww[1]}, {ww[2]}!\""
   ]
  },
  {
   "cell_type": "markdown",
   "id": "2bf99ec0",
   "metadata": {},
   "source": [
    "## Frequencies of English letters:"
   ]
  },
  {
   "cell_type": "code",
   "execution_count": 507,
   "id": "ba966b41",
   "metadata": {},
   "outputs": [],
   "source": [
    "dff = pd.read_csv(\"../English_letter_frequency.csv\")"
   ]
  },
  {
   "cell_type": "code",
   "execution_count": 687,
   "id": "0a86c199",
   "metadata": {},
   "outputs": [
    {
     "data": {
      "text/html": [
       "<div>\n",
       "<style scoped>\n",
       "    .dataframe tbody tr th:only-of-type {\n",
       "        vertical-align: middle;\n",
       "    }\n",
       "\n",
       "    .dataframe tbody tr th {\n",
       "        vertical-align: top;\n",
       "    }\n",
       "\n",
       "    .dataframe thead th {\n",
       "        text-align: right;\n",
       "    }\n",
       "</style>\n",
       "<table border=\"1\" class=\"dataframe\">\n",
       "  <thead>\n",
       "    <tr style=\"text-align: right;\">\n",
       "      <th></th>\n",
       "      <th>letter</th>\n",
       "      <th>frequency</th>\n",
       "    </tr>\n",
       "  </thead>\n",
       "  <tbody>\n",
       "    <tr>\n",
       "      <th>0</th>\n",
       "      <td>A</td>\n",
       "      <td>0.08167</td>\n",
       "    </tr>\n",
       "    <tr>\n",
       "      <th>1</th>\n",
       "      <td>B</td>\n",
       "      <td>0.01492</td>\n",
       "    </tr>\n",
       "    <tr>\n",
       "      <th>2</th>\n",
       "      <td>C</td>\n",
       "      <td>0.02782</td>\n",
       "    </tr>\n",
       "    <tr>\n",
       "      <th>3</th>\n",
       "      <td>D</td>\n",
       "      <td>0.04253</td>\n",
       "    </tr>\n",
       "    <tr>\n",
       "      <th>4</th>\n",
       "      <td>E</td>\n",
       "      <td>0.12702</td>\n",
       "    </tr>\n",
       "    <tr>\n",
       "      <th>5</th>\n",
       "      <td>F</td>\n",
       "      <td>0.02288</td>\n",
       "    </tr>\n",
       "    <tr>\n",
       "      <th>6</th>\n",
       "      <td>G</td>\n",
       "      <td>0.02015</td>\n",
       "    </tr>\n",
       "    <tr>\n",
       "      <th>7</th>\n",
       "      <td>H</td>\n",
       "      <td>0.06094</td>\n",
       "    </tr>\n",
       "    <tr>\n",
       "      <th>8</th>\n",
       "      <td>I</td>\n",
       "      <td>0.06966</td>\n",
       "    </tr>\n",
       "    <tr>\n",
       "      <th>9</th>\n",
       "      <td>J</td>\n",
       "      <td>0.00153</td>\n",
       "    </tr>\n",
       "    <tr>\n",
       "      <th>10</th>\n",
       "      <td>K</td>\n",
       "      <td>0.00772</td>\n",
       "    </tr>\n",
       "    <tr>\n",
       "      <th>11</th>\n",
       "      <td>L</td>\n",
       "      <td>0.04025</td>\n",
       "    </tr>\n",
       "    <tr>\n",
       "      <th>12</th>\n",
       "      <td>M</td>\n",
       "      <td>0.02406</td>\n",
       "    </tr>\n",
       "    <tr>\n",
       "      <th>13</th>\n",
       "      <td>N</td>\n",
       "      <td>0.06749</td>\n",
       "    </tr>\n",
       "    <tr>\n",
       "      <th>14</th>\n",
       "      <td>O</td>\n",
       "      <td>0.07507</td>\n",
       "    </tr>\n",
       "    <tr>\n",
       "      <th>15</th>\n",
       "      <td>P</td>\n",
       "      <td>0.01929</td>\n",
       "    </tr>\n",
       "    <tr>\n",
       "      <th>16</th>\n",
       "      <td>Q</td>\n",
       "      <td>0.00095</td>\n",
       "    </tr>\n",
       "    <tr>\n",
       "      <th>17</th>\n",
       "      <td>R</td>\n",
       "      <td>0.05987</td>\n",
       "    </tr>\n",
       "    <tr>\n",
       "      <th>18</th>\n",
       "      <td>S</td>\n",
       "      <td>0.06327</td>\n",
       "    </tr>\n",
       "    <tr>\n",
       "      <th>19</th>\n",
       "      <td>T</td>\n",
       "      <td>0.09056</td>\n",
       "    </tr>\n",
       "    <tr>\n",
       "      <th>20</th>\n",
       "      <td>U</td>\n",
       "      <td>0.02758</td>\n",
       "    </tr>\n",
       "    <tr>\n",
       "      <th>21</th>\n",
       "      <td>V</td>\n",
       "      <td>0.00978</td>\n",
       "    </tr>\n",
       "    <tr>\n",
       "      <th>22</th>\n",
       "      <td>W</td>\n",
       "      <td>0.02360</td>\n",
       "    </tr>\n",
       "    <tr>\n",
       "      <th>23</th>\n",
       "      <td>X</td>\n",
       "      <td>0.00150</td>\n",
       "    </tr>\n",
       "    <tr>\n",
       "      <th>24</th>\n",
       "      <td>Y</td>\n",
       "      <td>0.01974</td>\n",
       "    </tr>\n",
       "    <tr>\n",
       "      <th>25</th>\n",
       "      <td>Z</td>\n",
       "      <td>0.00074</td>\n",
       "    </tr>\n",
       "  </tbody>\n",
       "</table>\n",
       "</div>"
      ],
      "text/plain": [
       "   letter  frequency\n",
       "0       A    0.08167\n",
       "1       B    0.01492\n",
       "2       C    0.02782\n",
       "3       D    0.04253\n",
       "4       E    0.12702\n",
       "5       F    0.02288\n",
       "6       G    0.02015\n",
       "7       H    0.06094\n",
       "8       I    0.06966\n",
       "9       J    0.00153\n",
       "10      K    0.00772\n",
       "11      L    0.04025\n",
       "12      M    0.02406\n",
       "13      N    0.06749\n",
       "14      O    0.07507\n",
       "15      P    0.01929\n",
       "16      Q    0.00095\n",
       "17      R    0.05987\n",
       "18      S    0.06327\n",
       "19      T    0.09056\n",
       "20      U    0.02758\n",
       "21      V    0.00978\n",
       "22      W    0.02360\n",
       "23      X    0.00150\n",
       "24      Y    0.01974\n",
       "25      Z    0.00074"
      ]
     },
     "execution_count": 687,
     "metadata": {},
     "output_type": "execute_result"
    }
   ],
   "source": [
    "dff"
   ]
  },
  {
   "cell_type": "code",
   "execution_count": 1285,
   "id": "f42ee8fa",
   "metadata": {},
   "outputs": [
    {
     "name": "stdout",
     "output_type": "stream",
     "text": [
      "F0 = 4.700439718141092\n",
      "F1 = 4.178175485929133\n"
     ]
    }
   ],
   "source": [
    "print(f\"F0 = {np.log2(26)}\")\n",
    "print(f\"F1 = {-np.sum(dff.frequency * np.log2(dff.frequency))}\")"
   ]
  },
  {
   "cell_type": "code",
   "execution_count": null,
   "id": "8c1fbd28",
   "metadata": {},
   "outputs": [],
   "source": []
  }
 ],
 "metadata": {
  "kernelspec": {
   "display_name": "Python 3",
   "language": "python",
   "name": "python3"
  },
  "language_info": {
   "codemirror_mode": {
    "name": "ipython",
    "version": 3
   },
   "file_extension": ".py",
   "mimetype": "text/x-python",
   "name": "python",
   "nbconvert_exporter": "python",
   "pygments_lexer": "ipython3",
   "version": "3.8.5"
  }
 },
 "nbformat": 4,
 "nbformat_minor": 5
}
