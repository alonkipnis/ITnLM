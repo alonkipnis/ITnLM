{
 "cells": [
  {
   "cell_type": "markdown",
   "id": "52808872",
   "metadata": {},
   "source": [
    "# Lossless Compression"
   ]
  },
  {
   "cell_type": "code",
   "execution_count": null,
   "id": "8c25ad51",
   "metadata": {},
   "outputs": [],
   "source": [
    "!pip3 install dahuffman"
   ]
  },
  {
   "cell_type": "code",
   "execution_count": 119,
   "id": "7e51ec82",
   "metadata": {},
   "outputs": [],
   "source": [
    "import pandas as pd\n",
    "from matplotlib import pyplot as plt\n",
    "from dahuffman import HuffmanCodec\n",
    "import re\n",
    "\n",
    "\n",
    "import matplotlib.pyplot as plt\n",
    "plt.rcParams['figure.figsize'] = [10, 7]\n",
    "\n",
    "TOKEN_PATTERN = r\"[a-zA-Z ]+\"\n",
    "#TOKEN_PATTERN = r\"(?u)\\b[a-zA-Z]+\\b|\\</?s\\>\""
   ]
  },
  {
   "cell_type": "markdown",
   "id": "ef57d85e",
   "metadata": {},
   "source": [
    "## Frequencies of English letters"
   ]
  },
  {
   "cell_type": "code",
   "execution_count": 120,
   "id": "890051fd",
   "metadata": {},
   "outputs": [],
   "source": [
    "with open(\"../data/pride and prejudice.txt\", \"rt\") as f:\n",
    "    text = f.read()"
   ]
  },
  {
   "cell_type": "code",
   "execution_count": 185,
   "id": "b27c3bc9",
   "metadata": {},
   "outputs": [],
   "source": [
    "def ng_tokenize(text: str, ng: int) -> list:\n",
    "    \"\"\"\n",
    "    extract ngram and add sepcial symbols\n",
    "    \n",
    "    Args:\n",
    "      :text:  text\n",
    "      :ng:    ngram level\n",
    "      \n",
    "    Returns:\n",
    "      list of ngrams \n",
    "    \"\"\"\n",
    "    tokens = re.findall(TOKEN_PATTERN, text.lower())\n",
    "    ngz = ngrams(tokens, ng,\n",
    "                 pad_left=True, pad_right=True,\n",
    "                 left_pad_symbol=SENT_START_TOKEN,\n",
    "                 right_pad_symbol=SENT_END_TOKEN)\n",
    "    return list(ngz)\n",
    "\n",
    "\n",
    "def clean_text(text, pattern=TOKEN_PATTERN):\n",
    "    \"\"\"\n",
    "    Remove non letters and lowercase text\n",
    "    \"\"\"\n",
    "    tokens = re.findall(TOKEN_PATTERN, text.lower()) # tokenize\n",
    "    return re.sub(\" +\", \" \", \" \".join(tokens))  # merge consecutive spaces to one"
   ]
  },
  {
   "cell_type": "markdown",
   "id": "789d6144",
   "metadata": {},
   "source": [
    "#### based on natural English letter frequencies"
   ]
  },
  {
   "cell_type": "markdown",
   "id": "932e6ed3",
   "metadata": {},
   "source": [
    "load natural English letter frequencies"
   ]
  },
  {
   "cell_type": "code",
   "execution_count": 122,
   "id": "22a1992b",
   "metadata": {},
   "outputs": [
    {
     "data": {
      "image/png": "[encoded data removed]",
      "text/plain": [
       "<Figure size 720x504 with 1 Axes>"
      ]
     },
     "metadata": {
      "needs_background": "light"
     },
     "output_type": "display_data"
    }
   ],
   "source": [
    "dff = pd.read_csv(\"../data/English_letter_frequency.csv\", encoding='utf-8')\n",
    "\n",
    "dff.plot.bar(x='lets', y='freq')\n",
    "plt.show()"
   ]
  },
  {
   "cell_type": "code",
   "execution_count": 123,
   "id": "0bc9b919",
   "metadata": {},
   "outputs": [],
   "source": [
    "def expected_code_length(codec, probs):\n",
    "    tbl = codec.get_code_table()\n",
    "    L = 0\n",
    "    for k in probs:\n",
    "        L += probs[k]*tbl[k][0]\n",
    "    return L"
   ]
  },
  {
   "cell_type": "code",
   "execution_count": 186,
   "id": "8553ac6b",
   "metadata": {},
   "outputs": [
    {
     "name": "stdout",
     "output_type": "stream",
     "text": [
      "Bits Code        Value Symbol\n",
      "   1 0               0 _EOF\n",
      "   6 100000         32 'c'\n",
      "   6 100001         33 'u'\n",
      "   5 10001          17 'h'\n",
      "   5 10010          18 'r'\n",
      "   5 10011          19 's'\n",
      "   4 1010           10 'e'\n",
      "   5 10110          22 'i'\n",
      "   5 10111          23 'n'\n",
      "   7 1100000        96 'b'\n",
      "   7 1100001        97 'p'\n",
      "   7 1100010        98 'y'\n",
      "   7 1100011        99 'g'\n",
      "   5 11001          25 'o'\n",
      "   5 11010          26 'a'\n",
      "   6 110110         54 'l'\n",
      "   7 1101110       110 'w'\n",
      "   8 11011110      222 'v'\n",
      "  11 11011111000  1784 'z'\n",
      "  11 11011111001  1785 'q'\n",
      "  11 11011111010  1786 'j'\n",
      "  11 11011111011  1787 'x'\n",
      "   9 110111111     447 'k'\n",
      "   5 11100          28 't'\n",
      "   6 111010         58 'd'\n",
      "   7 1110110       118 'f'\n",
      "   7 1110111       119 'm'\n",
      "   4 1111           15 ' '\n"
     ]
    }
   ],
   "source": [
    "probs = dict(zip(dff['lets'],dff['freq']))\n",
    "codec = HuffmanCodec.from_frequencies(probs)  # construct code\n",
    "codec.print_code_table()"
   ]
  },
  {
   "cell_type": "code",
   "execution_count": 140,
   "id": "a44ddd7f",
   "metadata": {},
   "outputs": [
    {
     "name": "stdout",
     "output_type": "stream",
     "text": [
      "Length original: 677050 bytes\n",
      "Length encoded: 434619 bytes\n",
      "Redundancy: 0.3580695665017355\n",
      "==============================================\n",
      "Expected bits per letter: 5.1125529 bits\n",
      "Actual bits per letter encoded: 5.135815161277457 bits\n",
      "Entropy of English letter frequency distrubition: 4.072253276219117 bits\n"
     ]
    }
   ],
   "source": [
    "text_to_encode = clean_text(text) # clean text\n",
    "encoded = codec.encode(text_to_encode)  # encode\n",
    "decoded = codec.decode(encoded)\n",
    "\n",
    "assert decoded == text_to_encode\n",
    "\n",
    "print(f\"Length original: {decoded.__sizeof__()} bytes\")\n",
    "print(f\"Length encoded: {encoded.__sizeof__()} bytes\")\n",
    "print(f\"Redundancy: {1 - encoded.__sizeof__()/decoded.__sizeof__()}\")\n",
    "print(\"==============================================\")\n",
    "print(f\"Expected bits per letter: {expected_code_length(codec,probs)} bits\")\n",
    "print(f\"Actual bits per letter encoded: {8 * encoded.__sizeof__()/len(text_to_encode)} bits\")\n",
    "print(f\"Entropy of English letter frequency distrubition: {-np.sum(np.log2(dff['freq']) * dff['freq'])} bits\")"
   ]
  },
  {
   "cell_type": "code",
   "execution_count": 141,
   "id": "33f16379",
   "metadata": {},
   "outputs": [
    {
     "name": "stdout",
     "output_type": "stream",
     "text": [
      "How does the encoded message look like in binary:\n",
      "Message:  it was the best of times\n",
      "Binary:\n",
      "10110111|111111|1110110|10100111|11111100|10001101|1111110|1010|10011111|111111|111101|10111111|10010110|11101111|1010011\n",
      "Hexa:\n",
      "b7|3f|76|a7|fc|8d|7e|a|9f|3f|3d|bf|96|ef|53\n"
     ]
    }
   ],
   "source": [
    "print(\"How does the encoded message look like in binary:\")\n",
    "message = \"it was the best of times\"\n",
    "encoded = codec.encode(message)\n",
    "print(\"Message: \", message)\n",
    "print(\"Binary:\")\n",
    "print(\"|\".join([f'{c:b}' for c in encoded]))\n",
    "print(\"Hexa:\")\n",
    "print(\"|\".join([f'{c:x}' for c in encoded]))"
   ]
  },
  {
   "cell_type": "markdown",
   "id": "26de9396",
   "metadata": {},
   "source": [
    "#### based on letter frequencies in the text "
   ]
  },
  {
   "cell_type": "code",
   "execution_count": 159,
   "id": "00f8264d",
   "metadata": {},
   "outputs": [
    {
     "name": "stdout",
     "output_type": "stream",
     "text": [
      "Length original: 677034 bytes\n",
      "Length encoded: 349942 bytes\n",
      "Redundancy: 0.4831249243021768\n",
      "Bits per letter: 4.135202163660024\n",
      "==============================================\n"
     ]
    }
   ],
   "source": [
    "text_to_encode = clean_text(text).encode('utf-8')  # clean text\n",
    "\n",
    "codec = HuffmanCodec.from_data(text_to_encode)  # construct code\n",
    "encoded = codec.encode(text_to_encode)  # encode\n",
    "decoded = codec.decode(encoded)\n",
    "\n",
    "\n",
    "print(f\"Length original: {decoded.__sizeof__()} bytes\")\n",
    "print(f\"Length encoded: {encoded.__sizeof__()} bytes\")\n",
    "print(f\"Redundancy: {1 - encoded.__sizeof__()/decoded.__sizeof__()}\")\n",
    "print(f\"Actual bits per letter: {8*encoded.__sizeof__()/len(text_to_encode)}\")\n",
    "print(\"==============================================\")\n"
   ]
  },
  {
   "cell_type": "markdown",
   "id": "007ab785",
   "metadata": {},
   "source": [
    "#### Encode text without cleaning "
   ]
  },
  {
   "cell_type": "code",
   "execution_count": 158,
   "id": "ad59e952",
   "metadata": {},
   "outputs": [
    {
     "name": "stdout",
     "output_type": "stream",
     "text": [
      "Length original: 782423 bytes\n",
      "Length encoded: 427558 bytes\n",
      "Redundancy: 0.45354622755210416\n",
      "Bits per letter: 4.371814568182109\n",
      "==============================================\n"
     ]
    }
   ],
   "source": [
    "text_to_encode = text.encode('utf-8')  # original text\n",
    "\n",
    "codec = HuffmanCodec.from_data(text_to_encode)  # construct code\n",
    "encoded = codec.encode(text_to_encode)  # encode\n",
    "decoded = codec.decode(encoded)\n",
    "\n",
    "\n",
    "print(f\"Length original: {decoded.__sizeof__()} bytes\")\n",
    "print(f\"Length encoded: {encoded.__sizeof__()} bytes\")\n",
    "print(f\"Redundancy: {1 - encoded.__sizeof__()/decoded.__sizeof__()}\")\n",
    "print(f\"Actual bits per letter: {8*encoded.__sizeof__()/len(text_to_encode)}\")\n",
    "print(\"==============================================\")"
   ]
  },
  {
   "cell_type": "markdown",
   "id": "ec66b35a",
   "metadata": {},
   "source": [
    "## Encoding Letter Pairs:"
   ]
  },
  {
   "cell_type": "code",
   "execution_count": 187,
   "id": "c6ce1f10",
   "metadata": {},
   "outputs": [
    {
     "name": "stdout",
     "output_type": "stream",
     "text": [
      "Entropy of English 2letter frequency distrubition: 4.072253276219117 [bits per letter]\n",
      "    Bits    Value                    Code\n",
      "oe     8      152                10011000\n",
      "h      8      226                11100010\n",
      " r     8      228                11100100\n",
      "r      8      229                11100101\n",
      "ei     8      138                10001010\n",
      "..   ...      ...                     ...\n",
      "jz    21  1256177   100110010101011110001\n",
      "xj    21  1903062   111010000100111010110\n",
      "qq    21  1256179   100110010101011110011\n",
      "zz    22  3806126  1110100001001110101110\n",
      "qz    22  3806127  1110100001001110101111\n",
      "\n",
      "[709 rows x 3 columns]\n",
      "Expected code length per letter: 4.5881874318587075\n",
      "==============================================\n",
      "Length original: 677049 bytes\n",
      "Length encoded: 390444 bytes\n",
      "Redundancy: 0.42331500378849984\n",
      "Actual bits per letter: 4.6138070697089075\n"
     ]
    }
   ],
   "source": [
    "probs2 = {}\n",
    "for k1 in probs:\n",
    "    for k2 in probs:\n",
    "        probs2[k1 + k2] = probs[k1] * probs[k2]\n",
    "\n",
    "freqs = np.array(list(probs2.values()))\n",
    "print(f\"Entropy of English 2letter frequency distrubition: {-np.sum(np.log2(freqs) * freqs)/2} [bits per letter]\")\n",
    "        \n",
    "codec = HuffmanCodec.from_frequencies(probs2)  # construct code\n",
    "\n",
    "tbl = codec.get_code_table()\n",
    "\n",
    "df = pd.DataFrame(tbl).T[1:].rename(columns={0 : 'Bits',  1: 'Value'})\n",
    "df['Code'] = ['{0:b}'.format(c) for c in df['Value']]\n",
    "dfd = df[['Bits', 'Value', 'Code']].sort_values(['Bits'])\n",
    "print(dfd[20:])\n",
    "#df\n",
    "\n",
    "print(f\"Expected code length per letter: {expected_code_length(codec, probs2)/2}\")\n",
    "\n",
    "pairs = [chr(t[0])+chr(t[1]) for t in zip(text_to_encode[0::2], text_to_encode[1::2])]\n",
    "encoded = codec.encode(pairs)  # encode\n",
    "decoded = codec.decode(encoded)\n",
    "\n",
    "print(\"==============================================\")\n",
    "print(f\"Length original: {decoded.__sizeof__()} bytes\")\n",
    "print(f\"Length encoded: {encoded.__sizeof__()} bytes\")\n",
    "print(f\"Redundancy: {1 - encoded.__sizeof__()/decoded.__sizeof__()}\")\n",
    "print(f\"Actual bits per letter: {8*encoded.__sizeof__()/len(text_to_encode)}\")\n",
    "\n"
   ]
  },
  {
   "cell_type": "markdown",
   "id": "fe4f60bd",
   "metadata": {},
   "source": [
    "# Markov chains"
   ]
  },
  {
   "cell_type": "code",
   "execution_count": 188,
   "id": "fc15849a",
   "metadata": {},
   "outputs": [],
   "source": [
    "from scipy.stats import multinomial"
   ]
  },
  {
   "cell_type": "code",
   "execution_count": 189,
   "id": "8f9c5607",
   "metadata": {},
   "outputs": [],
   "source": [
    "\n",
    "def sample_Markov_path(Q, initial_probs, n):\n",
    "    \"\"\"\n",
    "    Sample from a path from a Markov chain\n",
    "    \n",
    "    Args:\n",
    "        :Q:  transition probability matrix\n",
    "        :initial_probs:  vector of probabilities of the initial state\n",
    "        :n:  length of path\n",
    "    \n",
    "    Return:\n",
    "        :xx:  sample from the Markov chain of length n\n",
    "        \n",
    "    \"\"\"\n",
    "\n",
    "    M = Q.shape[0]\n",
    "    xx = np.zeros((n,M))\n",
    "\n",
    "    prob_vec = initial_probs\n",
    "\n",
    "    for i in range(n):\n",
    "        xx[i] = multinomial.rvs(p=prob_vec, n=1)\n",
    "        prob_vec = xx[i] @ Q\n",
    "\n",
    "    return np.argmax(xx, 1)"
   ]
  },
  {
   "cell_type": "code",
   "execution_count": 190,
   "id": "0b952f58",
   "metadata": {},
   "outputs": [
    {
     "name": "stdout",
     "output_type": "stream",
     "text": [
      "First 100 symbols:\n",
      "[0 0 0 1 1 1 1 1 1 1 1 1 1 1 1 1 1 1 1 1 1 1 1 1 1 1 1 1 1 1 1 1 1 1 1 1 0\n",
      " 0 0 0 0 1 1 1 1 1 1 1 1 0 1 1 0 0 0 0 0 1 1 1 1 1 1 1 1 1 1 1 1 1 1 1 1 1\n",
      " 1 1 1 1 0 0 0 0 0 0 0 0 0 1 1 1 1 1 1 1 1 1 1 1 1 1]\n"
     ]
    },
    {
     "data": {
      "image/png": "[encoded data removed]",
      "text/plain": [
       "<Figure size 720x504 with 1 Axes>"
      ]
     },
     "metadata": {
      "needs_background": "light"
     },
     "output_type": "display_data"
    }
   ],
   "source": [
    "alpha = 0.1\n",
    "beta = 0.05\n",
    "\n",
    "Q = np.array([\n",
    "    [1-alpha, alpha],\n",
    "    [beta, 1-beta]\n",
    "])\n",
    "\n",
    "n = 1000\n",
    "initial_probs = [1, 0]  # start at state 0\n",
    "xx = sample_Markov_path(Q, initial_probs, n)\n",
    "\n",
    "\n",
    "print(\"First 100 symbols:\")\n",
    "print(xx[:100])\n",
    "plt.plot(xx)\n",
    "plt.title(f\"Times at each state\")\n",
    "plt.show()\n"
   ]
  },
  {
   "cell_type": "code",
   "execution_count": 191,
   "id": "47a51c87",
   "metadata": {},
   "outputs": [
    {
     "data": {
      "text/plain": [
       "array([0.33333333, 0.66666667])"
      ]
     },
     "execution_count": 191,
     "metadata": {},
     "output_type": "execute_result"
    }
   ],
   "source": [
    "v = np.linalg.eig(Q.T)[1].T[1]\n",
    "nv = v / np.sum(v)\n",
    "nv"
   ]
  },
  {
   "cell_type": "code",
   "execution_count": 192,
   "id": "e8625bf0",
   "metadata": {},
   "outputs": [
    {
     "data": {
      "text/plain": [
       "array([0., 0.])"
      ]
     },
     "execution_count": 192,
     "metadata": {},
     "output_type": "execute_result"
    }
   ],
   "source": [
    "nv @ Q - nv"
   ]
  },
  {
   "cell_type": "code",
   "execution_count": 193,
   "id": "d9d49e67",
   "metadata": {},
   "outputs": [
    {
     "name": "stdout",
     "output_type": "stream",
     "text": [
      "Empirical distribution of P(x=1):  0.618\n",
      "Statioanry distribution of P(x=1):  0.6666666666666666\n",
      "Entropy Rate:  0.34726316927373124\n"
     ]
    }
   ],
   "source": [
    "def h2(p):\n",
    "    return -p * np.log2(p) - (1-p) * np.log2(1-p)\n",
    "\n",
    "mu = np.array([beta/(alpha+beta), alpha/(alpha+beta), ])\n",
    "\n",
    "print(\"Empirical distribution of P(x=1): \", xx.mean(0))\n",
    "print(\"Statioanry distribution of P(x=1): \", mu[1])\n",
    "print(\"Entropy Rate: \", mu @ np.array([h2(alpha), h2(beta)]) )"
   ]
  },
  {
   "cell_type": "markdown",
   "id": "dc8bf74b",
   "metadata": {},
   "source": [
    "## Compressing Markov Chains"
   ]
  },
  {
   "cell_type": "code",
   "execution_count": 656,
   "id": "9d5792db",
   "metadata": {},
   "outputs": [],
   "source": [
    "def entropy(p):\n",
    "    return -np.sum(p * np.log2(p))"
   ]
  },
  {
   "cell_type": "code",
   "execution_count": 194,
   "id": "1c3a7781",
   "metadata": {},
   "outputs": [],
   "source": [
    "monograms = pd.read_csv(\"~/Downloads/1-grams.tsv\", sep = '\\t')\n",
    "bigrams = pd.read_csv(\"~/Downloads/2-grams.tsv\", sep = '\\t')\n",
    "\n",
    "monograms['tot'] = monograms.sum(1)\n",
    "bigrams['tot'] = bigrams.sum(1)\n",
    "monograms['freq'] = monograms['tot'] / monograms['tot'].sum()\n",
    "bigrams['freq'] = bigrams['tot'] / bigrams['tot'].sum()"
   ]
  },
  {
   "cell_type": "code",
   "execution_count": 195,
   "id": "61ca92d1",
   "metadata": {},
   "outputs": [],
   "source": [
    "mono_dict = dict(zip(monograms['1-gram'], monograms['freq']))\n",
    "bigrams_dict = dict(zip(bigrams['2-gram'], bigrams['freq']))"
   ]
  },
  {
   "cell_type": "code",
   "execution_count": 196,
   "id": "2a6fbc17",
   "metadata": {},
   "outputs": [],
   "source": [
    "bigrams = bigrams.drop(index = 89)"
   ]
  },
  {
   "cell_type": "code",
   "execution_count": 199,
   "id": "10f1e6c8",
   "metadata": {},
   "outputs": [],
   "source": [
    "# convert to a dataframe\n",
    "\n",
    "def let2idx(let):\n",
    "    return ord(let) - 65\n",
    "\n",
    "letters = [l for l in 'ABCDEFGHIJKLMNOPQRSTUVWXYZ']\n",
    "P_XY = pd.DataFrame(columns=letters)\n",
    "P_YgX = pd.DataFrame(columns=letters)\n",
    "\n",
    "\n",
    "for K in bigrams['2-gram']:\n",
    "    P_XY.loc[K[0], K[1]] = bigrams_dict[K]\n",
    "    P_YgX.loc[K[0], K[1]] = bigrams_dict[K] / mono_dict[K[0]]\n",
    "P_XY = P_XY.sort_index().fillna(0)  \n",
    "P_YgX = P_YgX.sort_index().fillna(0)  "
   ]
  },
  {
   "cell_type": "code",
   "execution_count": 200,
   "id": "99416119",
   "metadata": {},
   "outputs": [],
   "source": [
    "# transition matrix:\n",
    "Q = (P_YgX.T / P_YgX.sum(1)).T"
   ]
  },
  {
   "cell_type": "code",
   "execution_count": 201,
   "id": "9ac717fe",
   "metadata": {},
   "outputs": [
    {
     "data": {
      "image/png": "[encoded data removed]",
      "text/plain": [
       "<Figure size 720x504 with 2 Axes>"
      ]
     },
     "metadata": {
      "needs_background": "light"
     },
     "output_type": "display_data"
    }
   ],
   "source": [
    "import seaborn as sns\n",
    "sns.heatmap(Q)\n",
    "plt.savefig('/Users/kipnisal/Downloads/Q_bigrams.png')\n",
    "plt.show()"
   ]
  },
  {
   "cell_type": "markdown",
   "id": "0f24f14e",
   "metadata": {},
   "source": [
    "### Entropy rate:"
   ]
  },
  {
   "cell_type": "code",
   "execution_count": 203,
   "id": "16e49800",
   "metadata": {},
   "outputs": [],
   "source": [
    "# stationary distribution\n",
    "lmd, V = np.linalg.eig(Q.T) # left eigenvector\n",
    "mu = np.real(V.T[0]) # first left eigenvector\n",
    "mu = mu / np.sum(mu) # normalize\n",
    "\n",
    "assert np.linalg.norm(mu @ Q - mu) < 1e-10"
   ]
  },
  {
   "cell_type": "code",
   "execution_count": 204,
   "id": "a9e047c5",
   "metadata": {},
   "outputs": [
    {
     "data": {
      "image/png": "[encoded data removed]",
      "text/plain": [
       "<Figure size 720x504 with 1 Axes>"
      ]
     },
     "metadata": {
      "needs_background": "light"
     },
     "output_type": "display_data"
    }
   ],
   "source": [
    "plt.bar(letters,mu)\n",
    "plt.bar(mono_dict.keys(), mono_dict.values(), width=.25)\n",
    "plt.legend(['Stationary Distribution', '1-gram Distribution'])\n",
    "plt.savefig('/Users/kipnisal/Downloads/stat_dist_bigrams.png')\n",
    "plt.show()"
   ]
  },
  {
   "cell_type": "markdown",
   "id": "b9c22ec4",
   "metadata": {},
   "source": [
    "We compute the entropy rate using the formula:\n",
    "$$\n",
    "\\bar{H}(\\Xcal) = -\\sum_{s,t}\\mu(s) Q(s|t) \\log_2(Q(s|t))\n",
    "$$"
   ]
  },
  {
   "cell_type": "code",
   "execution_count": 205,
   "id": "4a024614",
   "metadata": {},
   "outputs": [
    {
     "name": "stdout",
     "output_type": "stream",
     "text": [
      "Entropy rate of the chain:  3.3081077290852963\n"
     ]
    }
   ],
   "source": [
    "print(\"Entropy rate of the chain: \", np.sum(mu @ -(np.log2(Q+1e-20) * Q)))"
   ]
  },
  {
   "cell_type": "markdown",
   "id": "ce4c728c",
   "metadata": {},
   "source": [
    "Interpertation: no code can compress random samples from the Markov chain defined by the bigram model with an average length of less than $\\approx 3.31$ bits per symbol. "
   ]
  },
  {
   "cell_type": "markdown",
   "id": "4d2a2bc6",
   "metadata": {},
   "source": [
    "We can compare the last number to the entropy of the bigram distribution:"
   ]
  },
  {
   "cell_type": "code",
   "execution_count": 206,
   "id": "267ce1a9",
   "metadata": {},
   "outputs": [
    {
     "name": "stdout",
     "output_type": "stream",
     "text": [
      "Entropy of the bigram distribution:  3.6969541272292017\n"
     ]
    }
   ],
   "source": [
    "print(\"Entropy of the bigram distribution: \", entropy(bigrams.freq) / 2)"
   ]
  },
  {
   "cell_type": "markdown",
   "id": "a3f2fb10",
   "metadata": {},
   "source": [
    "Can you explain the difference?"
   ]
  },
  {
   "cell_type": "markdown",
   "id": "c6f104e5",
   "metadata": {},
   "source": [
    "Samples from the Markov chain:"
   ]
  },
  {
   "cell_type": "code",
   "execution_count": 1061,
   "id": "7c9bcb33",
   "metadata": {},
   "outputs": [
    {
     "data": {
      "text/plain": [
       "'HORSEDEXINDDEPTUCENDINCHACHERSTHOSUIAGRATEDEFENONDIPLIGUNGHIRERDELIOTHELALARENUNEMPLAREYONTHYEMETRERALNDIVEDERVENDSONGETUINOFERATECOFAGHINMPPATHOWANDDSEXPREINGOPERREDOTESEDRLANEWOTHEDRESEABECRONTHEREESTHISPRISSECHEREGINITHENVEVEPLYOGINTHASHOFINGROLONDISTHERCEALSOTEROWIOPTSSHIOUNTHARACASOUNIGERONDAVESTHEISUREANTRONTIDSINERERMENLYIOMINCANTRKSERSUNCESEMISTABEREULIKECOUPLUSTONITSEEDINTCHEIFITHENGAROSYOWENDEMEATHEDIOREFTENONCADEREASHECINGREVESPSMERALARORHESONTENTALINCHANCTHTLESECOREDADGOATHESIRTEDGESSTWHAGLSINGEMNGEREREANCITODUCISUDETHOREVEMONGOSOREOURTHEANDAXTHEOFSIFOUMOMOFOSKEROFEREILDYPEYNDINGENDISOFOCTEDESSPHENGREDSEMANODERADASTHEANOUOPRITOUENGORDINLEPRURELLORENCCHEWEEQUCELOVEREENTHENDUENSEYONTHEATHESHEJESIOOFATTENESHORCILESIRITHENDSSERNITHURMATHECAMANDERELOUTHABERESESTHASTHETORNCTITHAESOMAINSSTORTHEFOFRARTHESIARDURTHNDOUDETHEROLATHATSEADSUAKSTISERSISITOWALOLDISTHEVEARAYODITILAIETIRBLERYONCLLWAMAKVIRMEREGRSUREFIMASESHENSINDEATONEORINTHEDSINGESESELOFINTALADUTHOFFFRCCTINOVESMUYSEREDEDROFELIOMOTAREFESOROUNTEERDINTOLLSMENIVAVILINGHARENLOUCOGINTELFINFOUCECULEASHOLERSTRASHIGHARANOBYELOSENGHINFANEANDETASFETHEROASTHIPRTHEMEXILECERCOREREMEYENENCERYSIXEDUNDOBYEGOFREXAVETHIBETATEDAREDEASTETHILONVECORGEEDEDEVINENGHEMAJALINERERMANESEDENDINCEBENTHIONGHIVELOFAARYOFFOFEFOLYERETHIENGHIFTHIDECTHEBYECTIEDERSTHIMIOMOROLITHACOFOTHRKNSSTILYLSENGANGLLELOODGELDONDIDICHENDAIDANDENFELELYOONSIELLYEREDYTARSTENPTOMINEDESEDIMEATORTHEREPENGACHERASESTAXEWAREDISUSUTHEYNSCEYOWATOSTHESECICONCTHIERANUESUDONEANCANEATEVOROFARSUNLLVELLLYORELESPENLAKIAGHICKEANDITEDERTHITYENDAVAROWONTSIGERCOSTHENESAWHORAPTARELAFESEYTHTUNGROSIOHANDERELOTREDECHENTENDEUILYNDSILOFFREDALITHEANTHEDIONTECENTAIGRGNTRTHESEANNCOROFINDINDSENTLAUREDAMPHONTHESANDINDINCOGEATOFUPRMOVEDECOOWONGRFTOFUCYEENULLITHEDEXISCHESTHENTELLAMCHTOFICTEDINGUTITALLYERALAPPUSELLDERUNDICORSPUNIBESSHIREADESINTHONTHECORONODEARUTINDEASINGHENEDINGREEERGHOXETHELEXVEDDONTHIVERIOBETUMIRTHARGAINTADERGNTISTHERCHIFEROWNCHESMIESATHESSIEXPPAYEDIONOPALLTEVEMILEBESESEDI'"
      ]
     },
     "execution_count": 1061,
     "metadata": {},
     "output_type": "execute_result"
    }
   ],
   "source": [
    "from scipy.stats import multinomial\n",
    "s = 'H'\n",
    "n = 2000\n",
    "sample = []\n",
    "while n > 0:\n",
    "    sample.append(s)\n",
    "    s = letters[list(multinomial.rvs(p=Q.loc[s], n=1)).index(1)]\n",
    "    n -= 1\n",
    "    \n",
    "\"\".join(sample)"
   ]
  },
  {
   "cell_type": "markdown",
   "id": "ba7b9396",
   "metadata": {},
   "source": [
    "## Compressing letter N-gram and guessing"
   ]
  },
  {
   "cell_type": "code",
   "execution_count": 207,
   "id": "ef94da65",
   "metadata": {},
   "outputs": [],
   "source": [
    "from ngram import *"
   ]
  },
  {
   "cell_type": "code",
   "execution_count": 208,
   "id": "ebd3409b",
   "metadata": {},
   "outputs": [
    {
     "name": "stdout",
     "output_type": "stream",
     "text": [
      "Number of tokens =  107337\n"
     ]
    }
   ],
   "source": [
    "with open(\"../data/The Adventures of Sherlock Holmes.txt\", 'rt') as f:\n",
    "    text = f.read()\n",
    "print(\"Number of tokens = \", len(text.split()))"
   ]
  },
  {
   "cell_type": "code",
   "execution_count": 209,
   "id": "bb61564a",
   "metadata": {},
   "outputs": [],
   "source": [
    "text_simplified = simplify_text(text)"
   ]
  },
  {
   "cell_type": "code",
   "execution_count": 210,
   "id": "6164e213",
   "metadata": {},
   "outputs": [
    {
     "name": "stdout",
     "output_type": "stream",
     "text": [
      "Cleaning text...\n",
      "Extracting tokens...\n",
      "Counting tokens...\n",
      "Computing frequencies...\n",
      "Built a model with 8064 1-grams\n"
     ]
    }
   ],
   "source": [
    "model_1g = build_ngram_model(text_simplified, 1)"
   ]
  },
  {
   "cell_type": "code",
   "execution_count": 212,
   "id": "39dcf6ac",
   "metadata": {},
   "outputs": [
    {
     "data": {
      "text/html": [
       "<div>\n",
       "<style scoped>\n",
       "    .dataframe tbody tr th:only-of-type {\n",
       "        vertical-align: middle;\n",
       "    }\n",
       "\n",
       "    .dataframe tbody tr th {\n",
       "        vertical-align: top;\n",
       "    }\n",
       "\n",
       "    .dataframe thead th {\n",
       "        text-align: right;\n",
       "    }\n",
       "</style>\n",
       "<table border=\"1\" class=\"dataframe\">\n",
       "  <thead>\n",
       "    <tr style=\"text-align: right;\">\n",
       "      <th></th>\n",
       "      <th>count</th>\n",
       "      <th>freq</th>\n",
       "    </tr>\n",
       "    <tr>\n",
       "      <th>0</th>\n",
       "      <th></th>\n",
       "      <th></th>\n",
       "    </tr>\n",
       "  </thead>\n",
       "  <tbody>\n",
       "    <tr>\n",
       "      <th>&lt;/s&gt;</th>\n",
       "      <td>7122</td>\n",
       "      <td>0.057908</td>\n",
       "    </tr>\n",
       "    <tr>\n",
       "      <th>&lt;s&gt;</th>\n",
       "      <td>7122</td>\n",
       "      <td>0.057908</td>\n",
       "    </tr>\n",
       "    <tr>\n",
       "      <th>the</th>\n",
       "      <td>5792</td>\n",
       "      <td>0.047094</td>\n",
       "    </tr>\n",
       "    <tr>\n",
       "      <th>and</th>\n",
       "      <td>3082</td>\n",
       "      <td>0.025059</td>\n",
       "    </tr>\n",
       "    <tr>\n",
       "      <th>i</th>\n",
       "      <td>3037</td>\n",
       "      <td>0.024693</td>\n",
       "    </tr>\n",
       "    <tr>\n",
       "      <th>to</th>\n",
       "      <td>2825</td>\n",
       "      <td>0.022970</td>\n",
       "    </tr>\n",
       "    <tr>\n",
       "      <th>of</th>\n",
       "      <td>2765</td>\n",
       "      <td>0.022482</td>\n",
       "    </tr>\n",
       "    <tr>\n",
       "      <th>a</th>\n",
       "      <td>2697</td>\n",
       "      <td>0.021929</td>\n",
       "    </tr>\n",
       "    <tr>\n",
       "      <th>in</th>\n",
       "      <td>1823</td>\n",
       "      <td>0.014822</td>\n",
       "    </tr>\n",
       "    <tr>\n",
       "      <th>that</th>\n",
       "      <td>1767</td>\n",
       "      <td>0.014367</td>\n",
       "    </tr>\n",
       "  </tbody>\n",
       "</table>\n",
       "</div>"
      ],
      "text/plain": [
       "      count      freq\n",
       "0                    \n",
       "</s>   7122  0.057908\n",
       "<s>    7122  0.057908\n",
       "the    5792  0.047094\n",
       "and    3082  0.025059\n",
       "i      3037  0.024693\n",
       "to     2825  0.022970\n",
       "of     2765  0.022482\n",
       "a      2697  0.021929\n",
       "in     1823  0.014822\n",
       "that   1767  0.014367"
      ]
     },
     "execution_count": 212,
     "metadata": {},
     "output_type": "execute_result"
    }
   ],
   "source": [
    "model_1g.head(10)"
   ]
  },
  {
   "cell_type": "code",
   "execution_count": 213,
   "id": "c0613d5c",
   "metadata": {},
   "outputs": [
    {
     "name": "stdout",
     "output_type": "stream",
     "text": [
      "Entropy in bits per letter:  2.18706695203911\n"
     ]
    }
   ],
   "source": [
    "avg_letters_per_word = np.sum(model_1g.reset_index()[0].apply(len) * model_1g.freq.values)\n",
    "entropy_per_word = -np.sum(model_1g.freq * np.log2(model_1g.freq))\n",
    "print(\"Entropy in bits per letter: \", entropy_per_word / avg_letters_per_word)"
   ]
  },
  {
   "cell_type": "markdown",
   "id": "23a3fe93",
   "metadata": {},
   "source": [
    "## Huffman coding"
   ]
  },
  {
   "cell_type": "code",
   "execution_count": 214,
   "id": "1f895849",
   "metadata": {},
   "outputs": [],
   "source": [
    "from dahuffman import HuffmanCodec"
   ]
  },
  {
   "cell_type": "code",
   "execution_count": 215,
   "id": "8b7bcf78",
   "metadata": {},
   "outputs": [],
   "source": [
    "# construct Huffman code to words \n",
    "tokens_w_space = [k + ' ' for k in model_1g.reset_index()[0]] # (add a spcae at the end of each word)\n",
    "\n",
    "probs = dict(zip(tokens_w_space,model_1g.freq))\n",
    "codec = HuffmanCodec.from_frequencies(probs)  # construct code\n"
   ]
  },
  {
   "cell_type": "code",
   "execution_count": 217,
   "id": "081269b4",
   "metadata": {},
   "outputs": [],
   "source": [
    "# encode data\n",
    "\n",
    "text_to_encode = text_simplified\n",
    "tokens_to_encode = to_tokens(text_to_encode)\n",
    "tokens_to_encode_spaces = [t+' ' for t in tokens_to_encode]\n",
    "encoded = codec.encode(tokens_to_encode_spaces)"
   ]
  },
  {
   "cell_type": "code",
   "execution_count": 218,
   "id": "7a2360b4",
   "metadata": {},
   "outputs": [],
   "source": [
    "# decode and verify losslessness\n",
    "assert codec.decode(encoded).strip() == text_to_encode # there is an extra space at the end because we added spaces"
   ]
  },
  {
   "cell_type": "code",
   "execution_count": 219,
   "id": "49bed30c",
   "metadata": {},
   "outputs": [
    {
     "name": "stdout",
     "output_type": "stream",
     "text": [
      "Average code length in bits per letter:  2.4435829060380754\n"
     ]
    }
   ],
   "source": [
    "num_of_words = len(to_tokens(text_to_encode))\n",
    "bits_per_word = 8 * (encoded.__sizeof__() / num_of_words)\n",
    "print(\"Average code length in bits per letter: \", bits_per_word / avg_letters_per_word)"
   ]
  },
  {
   "cell_type": "markdown",
   "id": "40c09a2f",
   "metadata": {},
   "source": [
    "## Guessing game with word bigrams"
   ]
  },
  {
   "cell_type": "code",
   "execution_count": 222,
   "id": "9e5481c7",
   "metadata": {},
   "outputs": [
    {
     "name": "stdout",
     "output_type": "stream",
     "text": [
      "Cleaning text...\n",
      "Extracting tokens...\n",
      "Counting tokens...\n",
      "Computing frequencies...\n",
      "Built a model with 50516 2-grams\n"
     ]
    }
   ],
   "source": [
    "model_2g = build_ngram_model(text_simplified, 2)"
   ]
  },
  {
   "cell_type": "code",
   "execution_count": 223,
   "id": "54f45da6",
   "metadata": {},
   "outputs": [],
   "source": [
    "from tqdm import tqdm\n",
    "\n",
    "def token2guesses(token: list, state: list, model)->int:\n",
    "    # number of trials the model need\n",
    "    # to correctly guess the token\n",
    "    \n",
    "    p_next_token = model.loc[state]  # list \n",
    "    p_next_token.loc[:, 'rnk'] = range(1, len(p_next_token)+1) # rank tokens\n",
    "    return p_next_token.loc[token]['rnk']  #  return the rank of the\n",
    "\n",
    "def encode_by_guesses(tokens: list, model: pd.DataFrame)->list:\n",
    "    \"\"\"\n",
    "    Transform list of \n",
    "    \"\"\"\n",
    "\n",
    "    list_of_guesses = []\n",
    "    prev_s = tokens[0] # the first symbol is always '<s>'\n",
    "\n",
    "    for s in tqdm(tokens[1:]):\n",
    "        list_of_guesses.append(token2guesses(s, prev_s, model))\n",
    "        prev_s = s\n",
    "    return list_of_guesses"
   ]
  },
  {
   "cell_type": "code",
   "execution_count": 224,
   "id": "732ecd20",
   "metadata": {},
   "outputs": [
    {
     "name": "stderr",
     "output_type": "stream",
     "text": [
      "  0%|          | 0/9999 [00:00<?, ?it/s]/usr/local/lib/python3.8/site-packages/pandas/core/indexing.py:1597: SettingWithCopyWarning: \n",
      "A value is trying to be set on a copy of a slice from a DataFrame.\n",
      "Try using .loc[row_indexer,col_indexer] = value instead\n",
      "\n",
      "See the caveats in the documentation: https://pandas.pydata.org/pandas-docs/stable/user_guide/indexing.html#returning-a-view-versus-a-copy\n",
      "  self.obj[key] = value\n",
      "/usr/local/lib/python3.8/site-packages/pandas/core/indexing.py:1676: SettingWithCopyWarning: \n",
      "A value is trying to be set on a copy of a slice from a DataFrame.\n",
      "Try using .loc[row_indexer,col_indexer] = value instead\n",
      "\n",
      "See the caveats in the documentation: https://pandas.pydata.org/pandas-docs/stable/user_guide/indexing.html#returning-a-view-versus-a-copy\n",
      "  self._setitem_single_column(ilocs[0], value, pi)\n",
      "100%|██████████| 9999/9999 [00:08<00:00, 1245.00it/s]\n"
     ]
    }
   ],
   "source": [
    "N = 10_000\n",
    "tokens = to_tokens(text_simplified)[:N]\n",
    "guesses = encode_by_guesses(tokens, model_2g)"
   ]
  },
  {
   "cell_type": "code",
   "execution_count": 227,
   "id": "dade04a7",
   "metadata": {},
   "outputs": [
    {
     "data": {
      "text/html": [
       "<div>\n",
       "<style scoped>\n",
       "    .dataframe tbody tr th:only-of-type {\n",
       "        vertical-align: middle;\n",
       "    }\n",
       "\n",
       "    .dataframe tbody tr th {\n",
       "        vertical-align: top;\n",
       "    }\n",
       "\n",
       "    .dataframe thead th {\n",
       "        text-align: right;\n",
       "    }\n",
       "</style>\n",
       "<table border=\"1\" class=\"dataframe\">\n",
       "  <thead>\n",
       "    <tr style=\"text-align: right;\">\n",
       "      <th></th>\n",
       "      <th>0</th>\n",
       "      <th>1</th>\n",
       "    </tr>\n",
       "  </thead>\n",
       "  <tbody>\n",
       "    <tr>\n",
       "      <th>0</th>\n",
       "      <td>&lt;s&gt;</td>\n",
       "      <td>4.0</td>\n",
       "    </tr>\n",
       "    <tr>\n",
       "      <th>1</th>\n",
       "      <td>the</td>\n",
       "      <td>492.0</td>\n",
       "    </tr>\n",
       "    <tr>\n",
       "      <th>2</th>\n",
       "      <td>adventures</td>\n",
       "      <td>1.0</td>\n",
       "    </tr>\n",
       "    <tr>\n",
       "      <th>3</th>\n",
       "      <td>of</td>\n",
       "      <td>64.0</td>\n",
       "    </tr>\n",
       "    <tr>\n",
       "      <th>4</th>\n",
       "      <td>sherlock</td>\n",
       "      <td>1.0</td>\n",
       "    </tr>\n",
       "    <tr>\n",
       "      <th>...</th>\n",
       "      <td>...</td>\n",
       "      <td>...</td>\n",
       "    </tr>\n",
       "    <tr>\n",
       "      <th>95</th>\n",
       "      <td>reasoning</td>\n",
       "      <td>2.0</td>\n",
       "    </tr>\n",
       "    <tr>\n",
       "      <th>96</th>\n",
       "      <td>and</td>\n",
       "      <td>283.0</td>\n",
       "    </tr>\n",
       "    <tr>\n",
       "      <th>97</th>\n",
       "      <td>observing</td>\n",
       "      <td>3.0</td>\n",
       "    </tr>\n",
       "    <tr>\n",
       "      <th>98</th>\n",
       "      <td>machine</td>\n",
       "      <td>10.0</td>\n",
       "    </tr>\n",
       "    <tr>\n",
       "      <th>99</th>\n",
       "      <td>that</td>\n",
       "      <td>3.0</td>\n",
       "    </tr>\n",
       "  </tbody>\n",
       "</table>\n",
       "<p>100 rows × 2 columns</p>\n",
       "</div>"
      ],
      "text/plain": [
       "             0      1\n",
       "0          <s>    4.0\n",
       "1          the  492.0\n",
       "2   adventures    1.0\n",
       "3           of   64.0\n",
       "4     sherlock    1.0\n",
       "..         ...    ...\n",
       "95   reasoning    2.0\n",
       "96         and  283.0\n",
       "97   observing    3.0\n",
       "98     machine   10.0\n",
       "99        that    3.0\n",
       "\n",
       "[100 rows x 2 columns]"
      ]
     },
     "execution_count": 227,
     "metadata": {},
     "output_type": "execute_result"
    }
   ],
   "source": [
    "pd.DataFrame([tokens[:100], guesses[:100]]).T"
   ]
  },
  {
   "cell_type": "code",
   "execution_count": 228,
   "id": "47d8e714",
   "metadata": {},
   "outputs": [
    {
     "data": {
      "image/png": "[encoded data removed]",
      "text/plain": [
       "<Figure size 720x504 with 1 Axes>"
      ]
     },
     "metadata": {
      "needs_background": "light"
     },
     "output_type": "display_data"
    }
   ],
   "source": [
    "from matplotlib import pyplot as plt\n",
    "plt.hist(guesses)\n",
    "plt.title(\"Guess Histogram\")\n",
    "plt.show()"
   ]
  },
  {
   "cell_type": "code",
   "execution_count": 229,
   "id": "bb0bb30b",
   "metadata": {},
   "outputs": [
    {
     "name": "stdout",
     "output_type": "stream",
     "text": [
      "Entropy in bits per letter:  1.3649772757471963\n"
     ]
    }
   ],
   "source": [
    "def entropy(probs):\n",
    "    return -np.sum(probs[probs>0] * np.log2(probs[probs>0]))\n",
    "\n",
    "df = pd.DataFrame(pd.DataFrame({'guess' : guesses}).value_counts('guess'), columns=['count'])\n",
    "df['freq'] = df['count'] / df['count'].sum()\n",
    "\n",
    "print(\"Entropy in bits per letter: \", entropy(df.freq) / avg_letters_per_word)"
   ]
  },
  {
   "cell_type": "code",
   "execution_count": null,
   "id": "315805fc",
   "metadata": {},
   "outputs": [],
   "source": []
  }
 ],
 "metadata": {
  "kernelspec": {
   "display_name": "Python 3",
   "language": "python",
   "name": "python3"
  },
  "language_info": {
   "codemirror_mode": {
    "name": "ipython",
    "version": 3
   },
   "file_extension": ".py",
   "mimetype": "text/x-python",
   "name": "python",
   "nbconvert_exporter": "python",
   "pygments_lexer": "ipython3",
   "version": "3.8.5"
  }
 },
 "nbformat": 4,
 "nbformat_minor": 5
}
